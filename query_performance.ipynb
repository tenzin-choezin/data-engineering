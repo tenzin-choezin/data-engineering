{
 "cells": [
  {
   "cell_type": "code",
   "execution_count": 1,
   "metadata": {
    "deletable": false,
    "editable": false
   },
   "outputs": [],
   "source": [
    "# Initialize Otter\n",
    "import otter\n",
    "grader = otter.Notebook(\"proj2.ipynb\")"
   ]
  },
  {
   "cell_type": "markdown",
   "metadata": {},
   "source": [
    "# Project 2: Query Performance\n",
    "## Due Date: Friday 03/12, 11:59 PM\n",
    "## Assignment Details\n",
    "In this project, we will explore how the database system optimizes query execution and how users can futher tune the performance of their queries.\n",
    "\n",
    "This project works with the Lahman's Baseball Database, an open source collection of baseball statistics from 1871 to 2020. It contains a variety of data, like batting statistics, team stats, managerial records, Hall of Fame records, and much more.\n",
    "\n",
    "**Note:** If at any point during the project, the internal state of the database or its tables have been modified in an undesirable way (i.e. a modification not resulting from the instructions of a question), restart your kernel and clear output and simply re-run the notebook as normal. This will shutdown you current connection to the database, which will prevent the issue of multiple connections to the database at any given point, and when re-running the notebook you will create a fresh database based on the provided Postgres dump.\n",
    "\n",
    "## Scoring Breakdown\n",
    "Question | Points\n",
    "--- | ---\n",
    "1a\t| 1\n",
    "1bi\t| 1\n",
    "1bii\t| 2\n",
    "1c\t| 1\n",
    "1di\t| 2\n",
    "1dii\t| 1\n",
    "1ei\t| 1\n",
    "1eii\t| 1\n",
    "1eiii\t| 1\n",
    "1eiv\t| 2\n",
    "1ev\t| 2\n",
    "2a\t| 1\n",
    "2b\t| 1\n",
    "2c\t| 2\n",
    "2d\t| 2\n",
    "3a\t| 2\n",
    "3bi\t| 1\n",
    "3bii |\t2\n",
    "3ci\t| 1\n",
    "3cii\t| 2\n",
    "4a\t| 2\n",
    "4b\t| 1\n",
    "4c\t| 1\n",
    "4di\t| 2\n",
    "4dii |\t2\n",
    "4ei\t| 2\n",
    "4eii | \t1\n",
    "4eiii |\t2\n",
    "4eiv |\t1\n",
    "4ev |\t1\n",
    "4evi |\t2\n",
    "4evii |\t2\n",
    "5a | 2\n",
    "5b | 2\n",
    "5c | 1\n",
    "5d | 2\n",
    "6a | 2\n",
    "6b | 1\n",
    "6c | 1\n",
    "6d | 2\n",
    "6e | 2\n",
    "7a | 1\n",
    "7b | 1\n",
    "8ai | 0\n",
    "8aii | 1\n",
    "8aiii | 1\n",
    "8b | 1\n",
    "8c | 1\n",
    "8d | 2\n",
    "8e | 1\n",
    "**Total** | 72"
   ]
  },
  {
   "cell_type": "code",
   "execution_count": 2,
   "metadata": {},
   "outputs": [],
   "source": [
    "# Run this cell to set up imports\n",
    "import numpy as np\n",
    "import pandas as pd"
   ]
  },
  {
   "cell_type": "markdown",
   "metadata": {},
   "source": [
    "## Getting Connected\n",
    "Similar to Project 1, we will be using the `ipython-sql` library to connect this notebook to a PostgreSQL database server on your JupyterHub account. Run the following cell to initiate the connection."
   ]
  },
  {
   "cell_type": "code",
   "execution_count": 3,
   "metadata": {},
   "outputs": [],
   "source": [
    "%reload_ext sql\n",
    "%sql postgresql://jovyan@127.0.0.1:5432/postgres"
   ]
  },
  {
   "cell_type": "markdown",
   "metadata": {},
   "source": [
    "## Setting up the Database\n",
    "The following cell will create the `baseball` database (if needed), unzip the Postgres dump of the Lahman's Baseball Database, populate the `baseball` database with the desired tables and data, and finally display all databases associated with the Postgres instance. After running the cell, you should see the `baseball` database in the generated list of databases outputted by `%sql \\l`."
   ]
  },
  {
   "cell_type": "code",
   "execution_count": 4,
   "metadata": {},
   "outputs": [
    {
     "name": "stdout",
     "output_type": "stream",
     "text": [
      "DROP DATABASE\n",
      "CREATE DATABASE\n",
      "ERROR:  syntax error at or near \"-\"\n",
      "LINE 1: -d\n",
      "        ^\n",
      "SET\n",
      "SET\n",
      "SET\n",
      "SET\n",
      " set_config \n",
      "------------\n",
      " \n",
      "(1 row)\n",
      "\n",
      "SET\n",
      "SET\n",
      "SET\n",
      "CREATE EXTENSION\n",
      "COMMENT\n",
      "SET\n",
      "CREATE TABLE\n",
      "psql:<stdin>:49: ERROR:  role \"postgres\" does not exist\n",
      "CREATE TABLE\n",
      "psql:<stdin>:80: ERROR:  role \"postgres\" does not exist\n",
      "CREATE TABLE\n",
      "psql:<stdin>:96: ERROR:  role \"postgres\" does not exist\n",
      "CREATE TABLE\n",
      "psql:<stdin>:112: ERROR:  role \"postgres\" does not exist\n",
      "CREATE TABLE\n",
      "psql:<stdin>:129: ERROR:  role \"postgres\" does not exist\n",
      "CREATE TABLE\n",
      "psql:<stdin>:146: ERROR:  role \"postgres\" does not exist\n",
      "CREATE TABLE\n",
      "psql:<stdin>:178: ERROR:  role \"postgres\" does not exist\n",
      "CREATE TABLE\n",
      "psql:<stdin>:210: ERROR:  role \"postgres\" does not exist\n",
      "CREATE TABLE\n",
      "psql:<stdin>:223: ERROR:  role \"postgres\" does not exist\n",
      "CREATE TABLE\n",
      "psql:<stdin>:251: ERROR:  role \"postgres\" does not exist\n",
      "CREATE TABLE\n",
      "psql:<stdin>:267: ERROR:  role \"postgres\" does not exist\n",
      "CREATE TABLE\n",
      "psql:<stdin>:295: ERROR:  role \"postgres\" does not exist\n",
      "CREATE TABLE\n",
      "psql:<stdin>:322: ERROR:  role \"postgres\" does not exist\n",
      "CREATE TABLE\n",
      "psql:<stdin>:341: ERROR:  role \"postgres\" does not exist\n",
      "CREATE TABLE\n",
      "psql:<stdin>:360: ERROR:  role \"postgres\" does not exist\n",
      "CREATE TABLE\n",
      "psql:<stdin>:380: ERROR:  role \"postgres\" does not exist\n",
      "CREATE TABLE\n",
      "psql:<stdin>:400: ERROR:  role \"postgres\" does not exist\n",
      "CREATE TABLE\n",
      "psql:<stdin>:416: ERROR:  role \"postgres\" does not exist\n",
      "CREATE TABLE\n",
      "psql:<stdin>:450: ERROR:  role \"postgres\" does not exist\n",
      "CREATE TABLE\n",
      "psql:<stdin>:490: ERROR:  role \"postgres\" does not exist\n",
      "CREATE TABLE\n",
      "psql:<stdin>:530: ERROR:  role \"postgres\" does not exist\n",
      "CREATE TABLE\n",
      "psql:<stdin>:545: ERROR:  role \"postgres\" does not exist\n",
      "CREATE TABLE\n",
      "psql:<stdin>:560: ERROR:  role \"postgres\" does not exist\n",
      "CREATE TABLE\n",
      "psql:<stdin>:579: ERROR:  role \"postgres\" does not exist\n",
      "CREATE TABLE\n",
      "psql:<stdin>:637: ERROR:  role \"postgres\" does not exist\n",
      "CREATE TABLE\n",
      "psql:<stdin>:651: ERROR:  role \"postgres\" does not exist\n",
      "CREATE TABLE\n",
      "psql:<stdin>:671: ERROR:  role \"postgres\" does not exist\n",
      "COPY 5219\n",
      "COPY 104256\n",
      "COPY 179\n",
      "COPY 6236\n",
      "COPY 425\n",
      "COPY 6879\n",
      "COPY 104324\n",
      "COPY 13943\n",
      "COPY 17350\n",
      "COPY 138838\n",
      "COPY 12028\n",
      "COPY 31955\n",
      "COPY 13110\n",
      "COPY 4191\n",
      "COPY 3040\n",
      "COPY 3469\n",
      "COPY 93\n",
      "COPY 252\n",
      "COPY 19370\n",
      "COPY 45806\n",
      "COPY 5445\n",
      "COPY 26428\n",
      "COPY 1207\n",
      "COPY 325\n",
      "COPY 2865\n",
      "COPY 120\n",
      "COPY 52\n",
      "ALTER TABLE\n",
      "ALTER TABLE\n",
      "ALTER TABLE\n",
      "ALTER TABLE\n",
      "ALTER TABLE\n",
      "ALTER TABLE\n",
      "ALTER TABLE\n",
      "ALTER TABLE\n",
      "ALTER TABLE\n",
      "ALTER TABLE\n",
      "ALTER TABLE\n",
      "ALTER TABLE\n",
      "ALTER TABLE\n",
      "ALTER TABLE\n",
      "ALTER TABLE\n",
      "ALTER TABLE\n",
      "ALTER TABLE\n",
      "ALTER TABLE\n",
      "ALTER TABLE\n",
      "ALTER TABLE\n",
      "ALTER TABLE\n",
      "ALTER TABLE\n",
      "ALTER TABLE\n",
      "ALTER TABLE\n",
      "ALTER TABLE\n",
      "ALTER TABLE\n",
      "SET\n",
      " * postgresql://jovyan@127.0.0.1:5432/postgres\n",
      "5 rows affected.\n"
     ]
    },
    {
     "data": {
      "text/html": [
       "<table>\n",
       "    <tr>\n",
       "        <th>Name</th>\n",
       "        <th>Owner</th>\n",
       "        <th>Encoding</th>\n",
       "        <th>Collate</th>\n",
       "        <th>Ctype</th>\n",
       "        <th>Access privileges</th>\n",
       "    </tr>\n",
       "    <tr>\n",
       "        <td>baseball</td>\n",
       "        <td>jovyan</td>\n",
       "        <td>UTF8</td>\n",
       "        <td>en_US.utf8</td>\n",
       "        <td>en_US.utf8</td>\n",
       "        <td>None</td>\n",
       "    </tr>\n",
       "    <tr>\n",
       "        <td>jovyan</td>\n",
       "        <td>jovyan</td>\n",
       "        <td>UTF8</td>\n",
       "        <td>en_US.utf8</td>\n",
       "        <td>en_US.utf8</td>\n",
       "        <td>None</td>\n",
       "    </tr>\n",
       "    <tr>\n",
       "        <td>postgres</td>\n",
       "        <td>jovyan</td>\n",
       "        <td>UTF8</td>\n",
       "        <td>en_US.utf8</td>\n",
       "        <td>en_US.utf8</td>\n",
       "        <td>None</td>\n",
       "    </tr>\n",
       "    <tr>\n",
       "        <td>template0</td>\n",
       "        <td>jovyan</td>\n",
       "        <td>UTF8</td>\n",
       "        <td>en_US.utf8</td>\n",
       "        <td>en_US.utf8</td>\n",
       "        <td>=c/jovyan<br>jovyan=CTc/jovyan</td>\n",
       "    </tr>\n",
       "    <tr>\n",
       "        <td>template1</td>\n",
       "        <td>jovyan</td>\n",
       "        <td>UTF8</td>\n",
       "        <td>en_US.utf8</td>\n",
       "        <td>en_US.utf8</td>\n",
       "        <td>=c/jovyan<br>jovyan=CTc/jovyan</td>\n",
       "    </tr>\n",
       "</table>"
      ],
      "text/plain": [
       "[('baseball', 'jovyan', 'UTF8', 'en_US.utf8', 'en_US.utf8', None),\n",
       " ('jovyan', 'jovyan', 'UTF8', 'en_US.utf8', 'en_US.utf8', None),\n",
       " ('postgres', 'jovyan', 'UTF8', 'en_US.utf8', 'en_US.utf8', None),\n",
       " ('template0',\n",
       "  'jovyan',\n",
       "  'UTF8',\n",
       "  'en_US.utf8',\n",
       "  'en_US.utf8',\n",
       "  '=c/jovyan\\njovyan=CTc/jovyan'),\n",
       " ('template1',\n",
       "  'jovyan',\n",
       "  'UTF8',\n",
       "  'en_US.utf8',\n",
       "  'en_US.utf8',\n",
       "  '=c/jovyan\\njovyan=CTc/jovyan')]"
      ]
     },
     "execution_count": 4,
     "metadata": {},
     "output_type": "execute_result"
    }
   ],
   "source": [
    "!psql -h localhost -c 'DROP DATABASE IF EXISTS baseball'\n",
    "!psql -h localhost -c 'CREATE DATABASE baseball'\n",
    "!gzip -dc data/lahman.pgdump.gz | psql -h localhost -c -d baseball -f -\n",
    "!psql -h localhost -c 'SET max_parallel_workers_per_gather = 0;'\n",
    "%sql \\l"
   ]
  },
  {
   "cell_type": "markdown",
   "metadata": {},
   "source": [
    "Now, run the following cell to connect to the `baseball` database. There should be no errors after running the following cell."
   ]
  },
  {
   "cell_type": "code",
   "execution_count": 5,
   "metadata": {},
   "outputs": [],
   "source": [
    "%sql postgresql://jovyan@127.0.0.1:5432/baseball"
   ]
  },
  {
   "cell_type": "markdown",
   "metadata": {},
   "source": [
    "To ensure that the connection to the database has been established, let's try grabbing the first 5 rows from the `halloffame` table."
   ]
  },
  {
   "cell_type": "code",
   "execution_count": 6,
   "metadata": {},
   "outputs": [
    {
     "name": "stdout",
     "output_type": "stream",
     "text": [
      " * postgresql://jovyan@127.0.0.1:5432/baseball\n",
      "   postgresql://jovyan@127.0.0.1:5432/postgres\n",
      "5 rows affected.\n"
     ]
    },
    {
     "data": {
      "text/html": [
       "<table>\n",
       "    <tr>\n",
       "        <th>playerid</th>\n",
       "        <th>yearid</th>\n",
       "        <th>votedby</th>\n",
       "        <th>ballots</th>\n",
       "        <th>needed</th>\n",
       "        <th>votes</th>\n",
       "        <th>inducted</th>\n",
       "        <th>category</th>\n",
       "        <th>needed_note</th>\n",
       "    </tr>\n",
       "    <tr>\n",
       "        <td>cobbty01</td>\n",
       "        <td>1936</td>\n",
       "        <td>BBWAA</td>\n",
       "        <td>226</td>\n",
       "        <td>170</td>\n",
       "        <td>222</td>\n",
       "        <td>Y</td>\n",
       "        <td>Player</td>\n",
       "        <td>None</td>\n",
       "    </tr>\n",
       "    <tr>\n",
       "        <td>ruthba01</td>\n",
       "        <td>1936</td>\n",
       "        <td>BBWAA</td>\n",
       "        <td>226</td>\n",
       "        <td>170</td>\n",
       "        <td>215</td>\n",
       "        <td>Y</td>\n",
       "        <td>Player</td>\n",
       "        <td>None</td>\n",
       "    </tr>\n",
       "    <tr>\n",
       "        <td>wagneho01</td>\n",
       "        <td>1936</td>\n",
       "        <td>BBWAA</td>\n",
       "        <td>226</td>\n",
       "        <td>170</td>\n",
       "        <td>215</td>\n",
       "        <td>Y</td>\n",
       "        <td>Player</td>\n",
       "        <td>None</td>\n",
       "    </tr>\n",
       "    <tr>\n",
       "        <td>mathech01</td>\n",
       "        <td>1936</td>\n",
       "        <td>BBWAA</td>\n",
       "        <td>226</td>\n",
       "        <td>170</td>\n",
       "        <td>205</td>\n",
       "        <td>Y</td>\n",
       "        <td>Player</td>\n",
       "        <td>None</td>\n",
       "    </tr>\n",
       "    <tr>\n",
       "        <td>johnswa01</td>\n",
       "        <td>1936</td>\n",
       "        <td>BBWAA</td>\n",
       "        <td>226</td>\n",
       "        <td>170</td>\n",
       "        <td>189</td>\n",
       "        <td>Y</td>\n",
       "        <td>Player</td>\n",
       "        <td>None</td>\n",
       "    </tr>\n",
       "</table>"
      ],
      "text/plain": [
       "[('cobbty01', 1936, 'BBWAA', 226, 170, 222, 'Y', 'Player', None),\n",
       " ('ruthba01', 1936, 'BBWAA', 226, 170, 215, 'Y', 'Player', None),\n",
       " ('wagneho01', 1936, 'BBWAA', 226, 170, 215, 'Y', 'Player', None),\n",
       " ('mathech01', 1936, 'BBWAA', 226, 170, 205, 'Y', 'Player', None),\n",
       " ('johnswa01', 1936, 'BBWAA', 226, 170, 189, 'Y', 'Player', None)]"
      ]
     },
     "execution_count": 6,
     "metadata": {},
     "output_type": "execute_result"
    }
   ],
   "source": [
    "%%sql\n",
    "SELECT * FROM halloffame LIMIT 5"
   ]
  },
  {
   "cell_type": "markdown",
   "metadata": {},
   "source": [
    "Run the following cell for grading purposes."
   ]
  },
  {
   "cell_type": "code",
   "execution_count": 7,
   "metadata": {},
   "outputs": [],
   "source": [
    "!mkdir -p results"
   ]
  },
  {
   "cell_type": "markdown",
   "metadata": {},
   "source": [
    "## Table Descriptions\n",
    "In its entirety the Lahman's Baseball Database contains 27 tables containing a variety of statistics for players, teams, games, schools, etc. For simplicity, this project will focus on a subset of the tables:\n",
    "* `appearances`: details on the positions each player appeared at\n",
    "* `batting`: batting statistics for each player\n",
    "* `collegeplaying`: list of players and the colleges they attended\n",
    "* `halloffame`: Hall of Fame voting data\n",
    "* `people`: player information (name, date of birth, and biographical info)\n",
    "* `salaries`: player salary data\n",
    "* `schools`: list of colleges that players attended"
   ]
  },
  {
   "cell_type": "code",
   "execution_count": 8,
   "metadata": {},
   "outputs": [
    {
     "name": "stdout",
     "output_type": "stream",
     "text": [
      " * postgresql://jovyan@127.0.0.1:5432/baseball\n",
      "   postgresql://jovyan@127.0.0.1:5432/postgres\n",
      "5 rows affected.\n"
     ]
    },
    {
     "data": {
      "text/html": [
       "<table>\n",
       "    <tr>\n",
       "        <th>playerid</th>\n",
       "        <th>yearid</th>\n",
       "        <th>votedby</th>\n",
       "        <th>ballots</th>\n",
       "        <th>needed</th>\n",
       "        <th>votes</th>\n",
       "        <th>inducted</th>\n",
       "        <th>category</th>\n",
       "        <th>needed_note</th>\n",
       "    </tr>\n",
       "    <tr>\n",
       "        <td>cobbty01</td>\n",
       "        <td>1936</td>\n",
       "        <td>BBWAA</td>\n",
       "        <td>226</td>\n",
       "        <td>170</td>\n",
       "        <td>222</td>\n",
       "        <td>Y</td>\n",
       "        <td>Player</td>\n",
       "        <td>None</td>\n",
       "    </tr>\n",
       "    <tr>\n",
       "        <td>ruthba01</td>\n",
       "        <td>1936</td>\n",
       "        <td>BBWAA</td>\n",
       "        <td>226</td>\n",
       "        <td>170</td>\n",
       "        <td>215</td>\n",
       "        <td>Y</td>\n",
       "        <td>Player</td>\n",
       "        <td>None</td>\n",
       "    </tr>\n",
       "    <tr>\n",
       "        <td>wagneho01</td>\n",
       "        <td>1936</td>\n",
       "        <td>BBWAA</td>\n",
       "        <td>226</td>\n",
       "        <td>170</td>\n",
       "        <td>215</td>\n",
       "        <td>Y</td>\n",
       "        <td>Player</td>\n",
       "        <td>None</td>\n",
       "    </tr>\n",
       "    <tr>\n",
       "        <td>mathech01</td>\n",
       "        <td>1936</td>\n",
       "        <td>BBWAA</td>\n",
       "        <td>226</td>\n",
       "        <td>170</td>\n",
       "        <td>205</td>\n",
       "        <td>Y</td>\n",
       "        <td>Player</td>\n",
       "        <td>None</td>\n",
       "    </tr>\n",
       "    <tr>\n",
       "        <td>johnswa01</td>\n",
       "        <td>1936</td>\n",
       "        <td>BBWAA</td>\n",
       "        <td>226</td>\n",
       "        <td>170</td>\n",
       "        <td>189</td>\n",
       "        <td>Y</td>\n",
       "        <td>Player</td>\n",
       "        <td>None</td>\n",
       "    </tr>\n",
       "</table>"
      ],
      "text/plain": [
       "[('cobbty01', 1936, 'BBWAA', 226, 170, 222, 'Y', 'Player', None),\n",
       " ('ruthba01', 1936, 'BBWAA', 226, 170, 215, 'Y', 'Player', None),\n",
       " ('wagneho01', 1936, 'BBWAA', 226, 170, 215, 'Y', 'Player', None),\n",
       " ('mathech01', 1936, 'BBWAA', 226, 170, 205, 'Y', 'Player', None),\n",
       " ('johnswa01', 1936, 'BBWAA', 226, 170, 189, 'Y', 'Player', None)]"
      ]
     },
     "execution_count": 8,
     "metadata": {},
     "output_type": "execute_result"
    }
   ],
   "source": [
    "%%sql\n",
    "Select *\n",
    "From halloffame\n",
    "Limit 5;"
   ]
  },
  {
   "cell_type": "code",
   "execution_count": 9,
   "metadata": {},
   "outputs": [
    {
     "name": "stdout",
     "output_type": "stream",
     "text": [
      " * postgresql://jovyan@127.0.0.1:5432/baseball\n",
      "   postgresql://jovyan@127.0.0.1:5432/postgres\n",
      "5 rows affected.\n"
     ]
    },
    {
     "data": {
      "text/html": [
       "<table>\n",
       "    <tr>\n",
       "        <th>namefirst</th>\n",
       "        <th>namelast</th>\n",
       "        <th>playerid</th>\n",
       "        <th>yearid</th>\n",
       "    </tr>\n",
       "    <tr>\n",
       "        <td>Hank</td>\n",
       "        <td>Aaron</td>\n",
       "        <td>aaronha01</td>\n",
       "        <td>1982</td>\n",
       "    </tr>\n",
       "    <tr>\n",
       "        <td>Jim</td>\n",
       "        <td>Abbott</td>\n",
       "        <td>abbotji01</td>\n",
       "        <td>2005</td>\n",
       "    </tr>\n",
       "    <tr>\n",
       "        <td>Babe</td>\n",
       "        <td>Adams</td>\n",
       "        <td>adamsba01</td>\n",
       "        <td>1937</td>\n",
       "    </tr>\n",
       "    <tr>\n",
       "        <td>Babe</td>\n",
       "        <td>Adams</td>\n",
       "        <td>adamsba01</td>\n",
       "        <td>1938</td>\n",
       "    </tr>\n",
       "    <tr>\n",
       "        <td>Babe</td>\n",
       "        <td>Adams</td>\n",
       "        <td>adamsba01</td>\n",
       "        <td>1939</td>\n",
       "    </tr>\n",
       "</table>"
      ],
      "text/plain": [
       "[('Hank', 'Aaron', 'aaronha01', 1982),\n",
       " ('Jim', 'Abbott', 'abbotji01', 2005),\n",
       " ('Babe', 'Adams', 'adamsba01', 1937),\n",
       " ('Babe', 'Adams', 'adamsba01', 1938),\n",
       " ('Babe', 'Adams', 'adamsba01', 1939)]"
      ]
     },
     "execution_count": 9,
     "metadata": {},
     "output_type": "execute_result"
    }
   ],
   "source": [
    "%%sql\n",
    "Select namefirst, namelast, P.playerid, yearid\n",
    "From people AS P, halloffame AS H\n",
    "WHERE P.playerid = H.playerid\n",
    "Limit 5;"
   ]
  },
  {
   "cell_type": "markdown",
   "metadata": {},
   "source": [
    "## Question 1: Queries and Views\n",
    "### Question 1a:\n",
    "Write a query that finds `namefirst`, `namelast`, `playerid` and `yearid` of all people who were successfully inducted into the Hall of Fame. **Note**: Your query should **not** use any sub-queries."
   ]
  },
  {
   "cell_type": "code",
   "execution_count": 10,
   "metadata": {},
   "outputs": [
    {
     "name": "stdout",
     "output_type": "stream",
     "text": [
      " * postgresql://jovyan@127.0.0.1:5432/baseball\n",
      "   postgresql://jovyan@127.0.0.1:5432/postgres\n",
      "323 rows affected.\n",
      "Returning data to local variable result_1a\n"
     ]
    }
   ],
   "source": [
    "%%sql result_1a <<\n",
    "Select namefirst, namelast, P.playerid, yearid\n",
    "From people AS P, halloffame AS H\n",
    "Where P.playerid = H.playerid\n",
    "And H.inducted = 'Y';"
   ]
  },
  {
   "cell_type": "code",
   "execution_count": 11,
   "metadata": {},
   "outputs": [],
   "source": [
    "# Do not delete/edit this cell\n",
    "result_1a.DataFrame().sort_values(['playerid', 'yearid']).to_csv('results/result_1a.csv', index=False)"
   ]
  },
  {
   "cell_type": "code",
   "execution_count": 12,
   "metadata": {
    "deletable": false,
    "editable": false
   },
   "outputs": [
    {
     "data": {
      "text/html": [
       "\n",
       "    <p><strong>q1a</strong> passed!</p>\n",
       "    "
      ],
      "text/plain": [
       "q1a passed!"
      ]
     },
     "execution_count": 12,
     "metadata": {},
     "output_type": "execute_result"
    }
   ],
   "source": [
    "grader.check(\"q1a\")"
   ]
  },
  {
   "cell_type": "markdown",
   "metadata": {},
   "source": [
    "### Question 1b:\n",
    "In this question, we will compare the query you wrote in `Question 1a` against the provided query in `Question 1bi` by inspecting the query plans (specifically, looking at the execution time, cost, and overall query plan structure). \n",
    "\n",
    "__Note__: To inspect the query plan for a given query, create a variable storing the query as a string and invoke a `psql` shell command to `explain analyze` the query: \n",
    "\n",
    "`your_variable = \"__REPLACE_ME_WITH_QUERY__\"`\n",
    "\n",
    "`!psql -h localhost -d baseball -c \"explain analyze $your_variable\"`\n",
    "\n",
    "See the subsequent cells for an example of how to display the query plan.\n",
    "\n",
    "#### Question 1bi: \n",
    "Inspect the query plan for `provided_query` and the query you wrote in `Question 1a`. Record the execution time and cost for each query."
   ]
  },
  {
   "cell_type": "code",
   "execution_count": 13,
   "metadata": {},
   "outputs": [
    {
     "name": "stdout",
     "output_type": "stream",
     "text": [
      " * postgresql://jovyan@127.0.0.1:5432/baseball\n",
      "   postgresql://jovyan@127.0.0.1:5432/postgres\n",
      "323 rows affected.\n",
      "Returning data to local variable provided_query\n"
     ]
    }
   ],
   "source": [
    "%%sql provided_query <<\n",
    "SELECT namefirst, namelast, p.playerid, yearid\n",
    "FROM people AS p, (SELECT * FROM halloffame WHERE inducted = 'Y') AS hof \n",
    "WHERE p.playerid = hof.playerid;"
   ]
  },
  {
   "cell_type": "code",
   "execution_count": 14,
   "metadata": {},
   "outputs": [
    {
     "name": "stdout",
     "output_type": "stream",
     "text": [
      "                                                           QUERY PLAN                                                           \r\n",
      "--------------------------------------------------------------------------------------------------------------------------------\r\n",
      " Nested Loop  (cost=0.29..262.79 rows=21 width=278) (actual time=0.079..2.939 rows=323 loops=1)\r\n",
      "   ->  Seq Scan on halloffame  (cost=0.00..96.39 rows=21 width=42) (actual time=0.032..0.765 rows=323 loops=1)\r\n",
      "         Filter: ((inducted)::text = 'Y'::text)\r\n",
      "         Rows Removed by Filter: 3868\r\n",
      "   ->  Index Scan using master_pkey on people p  (cost=0.29..7.92 rows=1 width=274) (actual time=0.006..0.006 rows=1 loops=323)\r\n",
      "         Index Cond: ((playerid)::text = (halloffame.playerid)::text)\r\n",
      " Planning Time: 0.654 ms\r\n",
      " Execution Time: 3.081 ms\r\n",
      "(8 rows)\r\n",
      "\r\n"
     ]
    }
   ],
   "source": [
    "provided_query_str = \"SELECT namefirst, namelast, p.playerid, yearid FROM people AS p, (SELECT * FROM halloffame WHERE inducted = 'Y') AS hof WHERE hof.inducted = 'Y' AND p.playerid = hof.playerid;\"\n",
    "!psql -h localhost -d baseball -c \"explain analyze $provided_query_str\""
   ]
  },
  {
   "cell_type": "code",
   "execution_count": 15,
   "metadata": {},
   "outputs": [
    {
     "name": "stdout",
     "output_type": "stream",
     "text": [
      "                                                           QUERY PLAN                                                           \r\n",
      "--------------------------------------------------------------------------------------------------------------------------------\r\n",
      " Nested Loop  (cost=0.29..262.79 rows=21 width=278) (actual time=0.074..2.863 rows=323 loops=1)\r\n",
      "   ->  Seq Scan on halloffame h  (cost=0.00..96.39 rows=21 width=42) (actual time=0.027..0.700 rows=323 loops=1)\r\n",
      "         Filter: ((inducted)::text = 'Y'::text)\r\n",
      "         Rows Removed by Filter: 3868\r\n",
      "   ->  Index Scan using master_pkey on people p  (cost=0.29..7.92 rows=1 width=274) (actual time=0.006..0.006 rows=1 loops=323)\r\n",
      "         Index Cond: ((playerid)::text = (h.playerid)::text)\r\n",
      " Planning Time: 0.559 ms\r\n",
      " Execution Time: 2.974 ms\r\n",
      "(8 rows)\r\n",
      "\r\n"
     ]
    }
   ],
   "source": [
    "inducted_hof_query_str = \"Select namefirst, namelast, P.playerid, yearid From people AS P, halloffame AS H Where P.playerid = H.playerid And H.inducted = 'Y';\"\n",
    "!psql -h localhost -d baseball -c \"explain analyze $inducted_hof_query_str\""
   ]
  },
  {
   "cell_type": "code",
   "execution_count": 16,
   "metadata": {},
   "outputs": [],
   "source": [
    "provided_query_cost = 959.06\n",
    "provided_query_timing = 22.569\n",
    "your_query_cost = 959.06\n",
    "your_query_timing = 19.358"
   ]
  },
  {
   "cell_type": "code",
   "execution_count": 17,
   "metadata": {
    "deletable": false,
    "editable": false
   },
   "outputs": [
    {
     "data": {
      "text/html": [
       "\n",
       "    <p><strong>q1bi</strong> passed!</p>\n",
       "    "
      ],
      "text/plain": [
       "q1bi passed!"
      ]
     },
     "execution_count": 17,
     "metadata": {},
     "output_type": "execute_result"
    }
   ],
   "source": [
    "grader.check(\"q1bi\")"
   ]
  },
  {
   "cell_type": "markdown",
   "metadata": {
    "deletable": false,
    "editable": false
   },
   "source": [
    "#### Question 1bii:\n",
    "Given your findings from inspecting the query plans of the two queries, answer the following question. Assign the variable `q1b_part2` to a list of answer choices which are true statements.\n",
    "\n",
    "1. Consider the following statements:\n",
    "    1. Both the queries have the same cost.\n",
    "    1. The provided query has a faster execution time because it makes use of a subquery.\n",
    "    1. The query you wrote has a faster execution time because it does not make use a subquery.\n",
    "    1. The provided query has less cost because it makes use of a subquery.\n",
    "    1. The query you wrote has less cost because it does not make use a subquery.\n",
    "    1. The queries have the same output.\n",
    "    1. The queries do not have the same output.\n",
    "    \n",
    "**Note:** Your answer should look like `q1b_part2 = ['A', 'B']`\n",
    "\n",
    "<!--\n",
    "BEGIN QUESTION\n",
    "name: q1bii\n",
    "points: 2\n",
    "-->"
   ]
  },
  {
   "cell_type": "code",
   "execution_count": 18,
   "metadata": {},
   "outputs": [],
   "source": [
    "q1b_part2 = ['A', 'C', 'F']"
   ]
  },
  {
   "cell_type": "code",
   "execution_count": 19,
   "metadata": {
    "deletable": false,
    "editable": false
   },
   "outputs": [
    {
     "data": {
      "text/html": [
       "\n",
       "    <p><strong>q1bii</strong> passed!</p>\n",
       "    "
      ],
      "text/plain": [
       "q1bii passed!"
      ]
     },
     "execution_count": 19,
     "metadata": {},
     "output_type": "execute_result"
    }
   ],
   "source": [
    "grader.check(\"q1bii\")"
   ]
  },
  {
   "cell_type": "markdown",
   "metadata": {},
   "source": [
    "### Question 1c:\n",
    "Write a query that creates a view named `inducted_hof_ca` of the people who were successfully inducted into the Hall of Fame and played in college at a school located in California. For each player, return their `namefirst`, `namelast`, `playerid`, `schoolid`, and `yearid` ordered by the `yearid` and then the `playerid`. \n",
    "\n",
    "**Note**: For this query, `yearid` refers to player's year of induction into the Hall of Fame."
   ]
  },
  {
   "cell_type": "code",
   "execution_count": 20,
   "metadata": {},
   "outputs": [
    {
     "name": "stdout",
     "output_type": "stream",
     "text": [
      " * postgresql://jovyan@127.0.0.1:5432/baseball\n",
      "   postgresql://jovyan@127.0.0.1:5432/postgres\n",
      "Done.\n",
      "Done.\n",
      "23 rows affected.\n",
      "Returning data to local variable result_1c\n"
     ]
    }
   ],
   "source": [
    "%%sql result_1c <<\n",
    "DROP VIEW IF EXISTS inducted_hof_ca;\n",
    "CREATE VIEW inducted_hof_ca AS\n",
    "Select P.namefirst, P.namelast, P.playerid, S.schoolid, H.yearid\n",
    "From schools AS S, collegeplaying AS C, halloffame AS H, people AS P\n",
    "Where S.schoolid = C.schoolid\n",
    "And H.playerid = C.playerid\n",
    "And P.playerid = H.playerid\n",
    "And H.inducted = 'Y'\n",
    "And S.schoolstate Like '%CA%'\n",
    "Order By yearid, playerid;\n",
    "\n",
    "SELECT * FROM inducted_hof_ca;"
   ]
  },
  {
   "cell_type": "code",
   "execution_count": 21,
   "metadata": {},
   "outputs": [],
   "source": [
    "# Do not delete/edit this cell\n",
    "result_1c.DataFrame().sort_values(['playerid', 'schoolid', 'yearid']).to_csv('results/result_1c.csv', index=False)"
   ]
  },
  {
   "cell_type": "code",
   "execution_count": 22,
   "metadata": {
    "deletable": false,
    "editable": false
   },
   "outputs": [
    {
     "data": {
      "text/html": [
       "\n",
       "    <p><strong>q1c</strong> passed!</p>\n",
       "    "
      ],
      "text/plain": [
       "q1c passed!"
      ]
     },
     "execution_count": 22,
     "metadata": {},
     "output_type": "execute_result"
    }
   ],
   "source": [
    "grader.check(\"q1c\")"
   ]
  },
  {
   "cell_type": "markdown",
   "metadata": {},
   "source": [
    "### Question 1d:\n",
    "For this question, we want to compute the count of players who were inducted into the Hall of Fame and played baseball at a college in California for each `schoolid` and `yearid` combination ordered by ascending `yearid`.\n",
    "\n",
    "#### Question 1di:\n",
    "Write two queries that accomplish this task -- one query using the view you created in the `Question 1c` and one query that does not use the view, common table expressions (CTEs), or any sub-queries."
   ]
  },
  {
   "cell_type": "code",
   "execution_count": 23,
   "metadata": {},
   "outputs": [
    {
     "name": "stdout",
     "output_type": "stream",
     "text": [
      " * postgresql://jovyan@127.0.0.1:5432/baseball\n",
      "   postgresql://jovyan@127.0.0.1:5432/postgres\n",
      "13 rows affected.\n",
      "Returning data to local variable with_view\n"
     ]
    }
   ],
   "source": [
    "%%sql with_view <<\n",
    "Select schoolid, yearid, count(*)\n",
    "From inducted_hof_ca\n",
    "Group By schoolid, yearid\n",
    "Order By yearid Asc;"
   ]
  },
  {
   "cell_type": "code",
   "execution_count": 24,
   "metadata": {},
   "outputs": [
    {
     "name": "stdout",
     "output_type": "stream",
     "text": [
      " * postgresql://jovyan@127.0.0.1:5432/baseball\n",
      "   postgresql://jovyan@127.0.0.1:5432/postgres\n",
      "13 rows affected.\n",
      "Returning data to local variable without_view\n"
     ]
    }
   ],
   "source": [
    "%%sql without_view <<\n",
    "Select S.schoolid, H.yearid, count(*)\n",
    "From schools AS S, collegeplaying AS C, halloffame AS H, people AS P\n",
    "Where S.schoolid = C.schoolid\n",
    "And S.schoolstate Like '%CA%'\n",
    "And H.playerid = C.playerid\n",
    "AND P.playerid = H.playerid\n",
    "And H.inducted = 'Y'\n",
    "Group By S.schoolid, H.yearid\n",
    "Order By H.yearid;"
   ]
  },
  {
   "cell_type": "code",
   "execution_count": 25,
   "metadata": {},
   "outputs": [],
   "source": [
    "# Do not delete/edit this cell\n",
    "with_view.DataFrame().sort_values(['schoolid', 'yearid']).to_csv('results/result_1di_view.csv', index=False)\n",
    "without_view.DataFrame().sort_values(['schoolid', 'yearid']).to_csv('results/result_1di_no_view.csv', index=False)"
   ]
  },
  {
   "cell_type": "code",
   "execution_count": 26,
   "metadata": {
    "deletable": false,
    "editable": false
   },
   "outputs": [
    {
     "data": {
      "text/html": [
       "\n",
       "    <p><strong>q1di</strong> passed!</p>\n",
       "    "
      ],
      "text/plain": [
       "q1di passed!"
      ]
     },
     "execution_count": 26,
     "metadata": {},
     "output_type": "execute_result"
    }
   ],
   "source": [
    "grader.check(\"q1di\")"
   ]
  },
  {
   "cell_type": "markdown",
   "metadata": {},
   "source": [
    "#### Question 1dii:\n",
    "Fill in your queries from `Question 1di` and inspect the query plans for the two queries. Record the execution time and cost for each query."
   ]
  },
  {
   "cell_type": "code",
   "execution_count": 182,
   "metadata": {},
   "outputs": [
    {
     "name": "stdout",
     "output_type": "stream",
     "text": [
      "                                                                             QUERY PLAN                                                                              \r\n",
      "---------------------------------------------------------------------------------------------------------------------------------------------------------------------\r\n",
      " GroupAggregate  (cost=525.47..527.39 rows=96 width=20) (actual time=6.233..6.251 rows=13 loops=1)\r\n",
      "   Group Key: inducted_hof_ca.yearid, inducted_hof_ca.schoolid\r\n",
      "   ->  Sort  (cost=525.47..525.71 rows=96 width=12) (actual time=6.224..6.231 rows=23 loops=1)\r\n",
      "         Sort Key: inducted_hof_ca.yearid, inducted_hof_ca.schoolid\r\n",
      "         Sort Method: quicksort  Memory: 26kB\r\n",
      "         ->  Subquery Scan on inducted_hof_ca  (cost=521.11..522.31 rows=96 width=12) (actual time=6.172..6.184 rows=23 loops=1)\r\n",
      "               ->  Sort  (cost=521.11..521.35 rows=96 width=257) (actual time=6.169..6.176 rows=23 loops=1)\r\n",
      "                     Sort Key: h.yearid, p.playerid\r\n",
      "                     Sort Method: quicksort  Memory: 26kB\r\n",
      "                     ->  Nested Loop  (cost=386.71..517.95 rows=96 width=257) (actual time=5.276..6.136 rows=23 loops=1)\r\n",
      "                           Join Filter: ((h.playerid)::text = (p.playerid)::text)\r\n",
      "                           ->  Hash Join  (cost=386.42..485.79 rows=96 width=30) (actual time=5.241..5.876 rows=23 loops=1)\r\n",
      "                                 Hash Cond: ((h.playerid)::text = (c.playerid)::text)\r\n",
      "                                 ->  Seq Scan on halloffame h  (cost=0.00..96.39 rows=323 width=13) (actual time=0.022..0.851 rows=323 loops=1)\r\n",
      "                                       Filter: ((inducted)::text = 'Y'::text)\r\n",
      "                                       Rows Removed by Filter: 3868\r\n",
      "                                 ->  Hash  (cost=361.99..361.99 rows=1955 width=17) (actual time=4.929..4.931 rows=2948 loops=1)\r\n",
      "                                       Buckets: 4096 (originally 2048)  Batches: 1 (originally 1)  Memory Usage: 178kB\r\n",
      "                                       ->  Hash Join  (cost=29.79..361.99 rows=1955 width=17) (actual time=0.246..4.246 rows=2948 loops=1)\r\n",
      "                                             Hash Cond: ((c.schoolid)::text = (s.schoolid)::text)\r\n",
      "                                             ->  Seq Scan on collegeplaying c  (cost=0.00..286.50 rows=17350 width=17) (actual time=0.019..1.476 rows=17350 loops=1)\r\n",
      "                                             ->  Hash  (cost=28.09..28.09 rows=136 width=8) (actual time=0.204..0.205 rows=136 loops=1)\r\n",
      "                                                   Buckets: 1024  Batches: 1  Memory Usage: 14kB\r\n",
      "                                                   ->  Seq Scan on schools s  (cost=0.00..28.09 rows=136 width=8) (actual time=0.013..0.178 rows=136 loops=1)\r\n",
      "                                                         Filter: ((schoolstate)::text ~~ '%CA%'::text)\r\n",
      "                                                         Rows Removed by Filter: 1071\r\n",
      "                           ->  Index Only Scan using master_pkey on people p  (cost=0.29..0.32 rows=1 width=9) (actual time=0.010..0.010 rows=1 loops=23)\r\n",
      "                                 Index Cond: (playerid = (c.playerid)::text)\r\n",
      "                                 Heap Fetches: 0\r\n",
      " Planning Time: 2.495 ms\r\n",
      " Execution Time: 6.515 ms\r\n",
      "(31 rows)\r\n",
      "\r\n"
     ]
    }
   ],
   "source": [
    "with_view_query_str = \"Select schoolid, yearid, count(*) From inducted_hof_ca Group By schoolid, yearid Order By yearid Asc\"\n",
    "!psql -h localhost -d baseball -c \"explain analyze $with_view_query_str\""
   ]
  },
  {
   "cell_type": "code",
   "execution_count": 183,
   "metadata": {},
   "outputs": [
    {
     "name": "stdout",
     "output_type": "stream",
     "text": [
      "                                                                       QUERY PLAN                                                                        \r\n",
      "---------------------------------------------------------------------------------------------------------------------------------------------------------\r\n",
      " GroupAggregate  (cost=521.11..523.03 rows=96 width=20) (actual time=5.829..5.840 rows=13 loops=1)\r\n",
      "   Group Key: h.yearid, s.schoolid\r\n",
      "   ->  Sort  (cost=521.11..521.35 rows=96 width=12) (actual time=5.823..5.827 rows=23 loops=1)\r\n",
      "         Sort Key: h.yearid, s.schoolid\r\n",
      "         Sort Method: quicksort  Memory: 26kB\r\n",
      "         ->  Nested Loop  (cost=386.71..517.95 rows=96 width=12) (actual time=5.268..5.774 rows=23 loops=1)\r\n",
      "               Join Filter: ((h.playerid)::text = (p.playerid)::text)\r\n",
      "               ->  Hash Join  (cost=386.42..485.79 rows=96 width=30) (actual time=5.236..5.597 rows=23 loops=1)\r\n",
      "                     Hash Cond: ((h.playerid)::text = (c.playerid)::text)\r\n",
      "                     ->  Seq Scan on halloffame h  (cost=0.00..96.39 rows=323 width=13) (actual time=0.023..0.601 rows=323 loops=1)\r\n",
      "                           Filter: ((inducted)::text = 'Y'::text)\r\n",
      "                           Rows Removed by Filter: 3868\r\n",
      "                     ->  Hash  (cost=361.99..361.99 rows=1955 width=17) (actual time=4.929..4.931 rows=2948 loops=1)\r\n",
      "                           Buckets: 4096 (originally 2048)  Batches: 1 (originally 1)  Memory Usage: 178kB\r\n",
      "                           ->  Hash Join  (cost=29.79..361.99 rows=1955 width=17) (actual time=0.246..4.272 rows=2948 loops=1)\r\n",
      "                                 Hash Cond: ((c.schoolid)::text = (s.schoolid)::text)\r\n",
      "                                 ->  Seq Scan on collegeplaying c  (cost=0.00..286.50 rows=17350 width=17) (actual time=0.016..1.438 rows=17350 loops=1)\r\n",
      "                                 ->  Hash  (cost=28.09..28.09 rows=136 width=8) (actual time=0.197..0.198 rows=136 loops=1)\r\n",
      "                                       Buckets: 1024  Batches: 1  Memory Usage: 14kB\r\n",
      "                                       ->  Seq Scan on schools s  (cost=0.00..28.09 rows=136 width=8) (actual time=0.013..0.170 rows=136 loops=1)\r\n",
      "                                             Filter: ((schoolstate)::text ~~ '%CA%'::text)\r\n",
      "                                             Rows Removed by Filter: 1071\r\n",
      "               ->  Index Only Scan using master_pkey on people p  (cost=0.29..0.32 rows=1 width=9) (actual time=0.007..0.007 rows=1 loops=23)\r\n",
      "                     Index Cond: (playerid = (c.playerid)::text)\r\n",
      "                     Heap Fetches: 0\r\n",
      " Planning Time: 2.549 ms\r\n",
      " Execution Time: 6.021 ms\r\n",
      "(27 rows)\r\n",
      "\r\n"
     ]
    }
   ],
   "source": [
    "without_view_query_str = \"Select S.schoolid, H.yearid, count(*) From schools AS S, collegeplaying AS C, halloffame AS H, people AS P Where S.schoolid = C.schoolid And S.schoolstate Like '%CA%' And H.playerid = C.playerid AND P.playerid = H.playerid And H.inducted = 'Y' Group By S.schoolid, H.yearid Order By H.yearid\"\n",
    "!psql -h localhost -d baseball -c\"explain analyze $without_view_query_str\""
   ]
  },
  {
   "cell_type": "code",
   "execution_count": 184,
   "metadata": {},
   "outputs": [],
   "source": [
    "with_view_cost = 527.39\n",
    "with_view_timing = 10.359\n",
    "without_view_cost = 523.03\n",
    "without_view_timing = 9.743"
   ]
  },
  {
   "cell_type": "code",
   "execution_count": 30,
   "metadata": {
    "deletable": false,
    "editable": false
   },
   "outputs": [
    {
     "data": {
      "text/html": [
       "\n",
       "    <p><strong>q1dii</strong> passed!</p>\n",
       "    "
      ],
      "text/plain": [
       "q1dii passed!"
      ]
     },
     "execution_count": 30,
     "metadata": {},
     "output_type": "execute_result"
    }
   ],
   "source": [
    "grader.check(\"q1dii\")"
   ]
  },
  {
   "cell_type": "markdown",
   "metadata": {},
   "source": [
    "### Question 1e:\n",
    "#### Question 1ei:\n",
    "Now, let's try creating a materialized view named `inducted_hof_ca_mat` instead of the regular view from `Question 1c`."
   ]
  },
  {
   "cell_type": "code",
   "execution_count": 31,
   "metadata": {},
   "outputs": [
    {
     "name": "stdout",
     "output_type": "stream",
     "text": [
      " * postgresql://jovyan@127.0.0.1:5432/baseball\n",
      "   postgresql://jovyan@127.0.0.1:5432/postgres\n",
      "Done.\n",
      "23 rows affected.\n",
      "23 rows affected.\n",
      "Returning data to local variable inducted_hof_ca_materialized\n"
     ]
    }
   ],
   "source": [
    "%%sql inducted_hof_ca_materialized <<\n",
    "DROP MATERIALIZED VIEW IF EXISTS inducted_hof_ca_mat;\n",
    "CREATE MATERIALIZED VIEW inducted_hof_ca_mat AS\n",
    "Select P.namefirst, P.namelast, P.playerid, S.schoolid, H.yearid\n",
    "From schools AS S, collegeplaying AS C, halloffame AS H, people AS P\n",
    "Where S.schoolid = C.schoolid\n",
    "And H.playerid = C.playerid\n",
    "And P.playerid = H.playerid\n",
    "And H.inducted = 'Y'\n",
    "And S.schoolstate Like '%CA%'\n",
    "Order By yearid, playerid;\n",
    "\n",
    "SELECT * FROM inducted_hof_ca_mat;"
   ]
  },
  {
   "cell_type": "code",
   "execution_count": 32,
   "metadata": {},
   "outputs": [],
   "source": [
    "# Do not delete/edit this cell\n",
    "inducted_hof_ca_materialized.DataFrame().sort_values(['playerid', 'schoolid', 'yearid']).to_csv('results/result_1ei.csv', index=False)"
   ]
  },
  {
   "cell_type": "code",
   "execution_count": 33,
   "metadata": {
    "deletable": false,
    "editable": false
   },
   "outputs": [
    {
     "data": {
      "text/html": [
       "\n",
       "    <p><strong>q1ei</strong> passed!</p>\n",
       "    "
      ],
      "text/plain": [
       "q1ei passed!"
      ]
     },
     "execution_count": 33,
     "metadata": {},
     "output_type": "execute_result"
    }
   ],
   "source": [
    "grader.check(\"q1ei\")"
   ]
  },
  {
   "cell_type": "markdown",
   "metadata": {},
   "source": [
    "#### Question 1eii:\n",
    "\n",
    "Now, rewrite the query from `Question 1d` to use the materialized view `inducted_hof_ca_mat`."
   ]
  },
  {
   "cell_type": "code",
   "execution_count": 34,
   "metadata": {},
   "outputs": [
    {
     "name": "stdout",
     "output_type": "stream",
     "text": [
      " * postgresql://jovyan@127.0.0.1:5432/baseball\n",
      "   postgresql://jovyan@127.0.0.1:5432/postgres\n",
      "13 rows affected.\n",
      "Returning data to local variable with_materialized_view\n"
     ]
    }
   ],
   "source": [
    "%%sql with_materialized_view <<\n",
    "Select schoolid, yearid, count(*)\n",
    "From inducted_hof_ca_mat\n",
    "Group By schoolid, yearid\n",
    "Order By yearid Asc;"
   ]
  },
  {
   "cell_type": "code",
   "execution_count": 35,
   "metadata": {},
   "outputs": [],
   "source": [
    "# Do not delete/edit this cell\n",
    "with_materialized_view.DataFrame().sort_values(['schoolid', 'yearid']).to_csv('results/result_1eii.csv', index=False)"
   ]
  },
  {
   "cell_type": "code",
   "execution_count": 36,
   "metadata": {
    "deletable": false,
    "editable": false
   },
   "outputs": [
    {
     "data": {
      "text/html": [
       "\n",
       "    <p><strong>q1eii</strong> passed!</p>\n",
       "    "
      ],
      "text/plain": [
       "q1eii passed!"
      ]
     },
     "execution_count": 36,
     "metadata": {},
     "output_type": "execute_result"
    }
   ],
   "source": [
    "grader.check(\"q1eii\")"
   ]
  },
  {
   "cell_type": "markdown",
   "metadata": {},
   "source": [
    "#### Question 1eiii:\n",
    "Inspect the query plan and record the execution time and cost of the query that uses the materialized view."
   ]
  },
  {
   "cell_type": "code",
   "execution_count": 37,
   "metadata": {},
   "outputs": [
    {
     "name": "stdout",
     "output_type": "stream",
     "text": [
      "                                                          QUERY PLAN                                                          \r\n",
      "------------------------------------------------------------------------------------------------------------------------------\r\n",
      " Sort  (cost=23.67..24.17 rows=200 width=60) (actual time=0.072..0.074 rows=13 loops=1)\r\n",
      "   Sort Key: yearid\r\n",
      "   Sort Method: quicksort  Memory: 25kB\r\n",
      "   ->  HashAggregate  (cost=14.03..16.02 rows=200 width=60) (actual time=0.026..0.030 rows=13 loops=1)\r\n",
      "         Group Key: yearid, schoolid\r\n",
      "         Batches: 1  Memory Usage: 40kB\r\n",
      "         ->  Seq Scan on inducted_hof_ca_mat  (cost=0.00..12.30 rows=230 width=52) (actual time=0.006..0.008 rows=23 loops=1)\r\n",
      " Planning Time: 0.414 ms\r\n",
      " Execution Time: 0.224 ms\r\n",
      "(9 rows)\r\n",
      "\r\n"
     ]
    }
   ],
   "source": [
    "with_materialized_view_query_str = \"Select schoolid, yearid, count(*) From inducted_hof_ca_mat Group By schoolid, yearid Order By yearid Asc\"\n",
    "!psql -h localhost -d baseball -c \"explain analyze $with_materialized_view_query_str\""
   ]
  },
  {
   "cell_type": "code",
   "execution_count": 38,
   "metadata": {},
   "outputs": [],
   "source": [
    "with_materialized_view_cost = 24.17\n",
    "with_materialized_view_timing = 0.581"
   ]
  },
  {
   "cell_type": "code",
   "execution_count": 39,
   "metadata": {
    "deletable": false,
    "editable": false
   },
   "outputs": [
    {
     "data": {
      "text/html": [
       "\n",
       "    <p><strong>q1eiii</strong> passed!</p>\n",
       "    "
      ],
      "text/plain": [
       "q1eiii passed!"
      ]
     },
     "execution_count": 39,
     "metadata": {},
     "output_type": "execute_result"
    }
   ],
   "source": [
    "grader.check(\"q1eiii\")"
   ]
  },
  {
   "cell_type": "markdown",
   "metadata": {
    "deletable": false,
    "editable": false
   },
   "source": [
    "#### Question 1eiv:\n",
    "Given your findings from inspecting the query plans of queries using a view, no view, and a materialized view, answer the following question. Assign the variable `q1e_part4` to a list of all statements which are true.\n",
    "\n",
    "1. Consider the following statements:\n",
    "    1. Views will reduce the execution time and the cost of a query.\n",
    "    1. Views will reduce the execution time of a query, but not the cost.\n",
    "    1. Views will reduce the cost of a query, but not the execution time.\n",
    "    1. Materialized views reduce the execution time and the cost of a query.\n",
    "    1. Materialized views reduce the execution time, but not cost of a query.\n",
    "    1. Materialized views reduce the cost of a query, but not the execution time.\n",
    "    1. Materialized views will result in the same query plan as a query using views.\n",
    "    1. Materialized views and views take the same time to create.\n",
    "    1. Materialized views take less time to create than a view.\n",
    "    1. Materialized views take more time to create than a view.\n",
    "    \n",
    "*Note:* Your answer should look like `q1e_part4 = ['A', 'B']`\n",
    "\n",
    "<!--\n",
    "BEGIN QUESTION\n",
    "name: q1eiv\n",
    "points: 2\n",
    "-->"
   ]
  },
  {
   "cell_type": "code",
   "execution_count": 40,
   "metadata": {},
   "outputs": [],
   "source": [
    "q1e_part4 = ['D', 'J']"
   ]
  },
  {
   "cell_type": "code",
   "execution_count": 41,
   "metadata": {
    "deletable": false,
    "editable": false
   },
   "outputs": [
    {
     "data": {
      "text/html": [
       "\n",
       "    <p><strong>q1eiv</strong> passed!</p>\n",
       "    "
      ],
      "text/plain": [
       "q1eiv passed!"
      ]
     },
     "execution_count": 41,
     "metadata": {},
     "output_type": "execute_result"
    }
   ],
   "source": [
    "grader.check(\"q1eiv\")"
   ]
  },
  {
   "cell_type": "markdown",
   "metadata": {
    "deletable": false,
    "editable": false
   },
   "source": [
    "<!-- BEGIN QUESTION -->\n",
    "\n",
    "#### Question 1ev:\n",
    "\n",
    "Explain your answer to the previous part based on your findings and details from the query plans (your explanation should include why you didn't choose certain options).\n",
    "\n",
    "<!--\n",
    "BEGIN QUESTION\n",
    "name: q1ev\n",
    "manual: true\n",
    "points: 2\n",
    "-->"
   ]
  },
  {
   "cell_type": "markdown",
   "metadata": {},
   "source": [
    "* From using 'explain analyze' on the 3 main queries above, I found that the cost and execution time from not using a view were without_view_cost = 523.03 and without_view_timing = 9.743. With the view, the cost and execution time were with_view_cost = 527.39 and with_view_timing = 10.359. On average, the cost of using a view is higher and the execution time is more often than not higher than without a view. So options A, B, and C are incorrect. When inspecting the query plan, we see that there are several additional steps involved when using the view; we first have to create the view and thereafter perform operations on it; without the view, we perform the operatings immediately, making the process faster.\n",
    "* We see that the cost of using a materialized view goes down quite a bit relative to using a view or no type of view at all. We have with_materialized_view_cost = 24.17 and with_materialized_view_timing =  0.581. In addition, we see that the execution time drops a rather significant amount. Because of this, I selected option D. As such, options E and F are incorrect.\n",
    "* Option J is correct because materialized views are objects being stored (like a regular table) whereas views are not stored and are just computed on demand as part of the query. Furthermore, materialized views have greater overhead to manage."
   ]
  },
  {
   "cell_type": "markdown",
   "metadata": {},
   "source": [
    "<!-- END QUESTION -->\n",
    "\n",
    "\n",
    "\n",
    "## Question 2: Predicate Pushdown\n",
    "In this question, we will explore the impact of predicates on a query's execution, particularly inspecting when the optimizer applies predicates.\n",
    "\n",
    "### Question 2a:\n",
    "Recall the `inducted_hof_ca` created in `Question 1c`. Inspect the query plan for a query that that gets all rows from the view, and record the execution time and cost."
   ]
  },
  {
   "cell_type": "code",
   "execution_count": 42,
   "metadata": {},
   "outputs": [
    {
     "name": "stdout",
     "output_type": "stream",
     "text": [
      "                                                                              QUERY PLAN                                                                              \r\n",
      "----------------------------------------------------------------------------------------------------------------------------------------------------------------------\r\n",
      " Sort  (cost=201.72..201.74 rows=11 width=326) (actual time=3.790..3.794 rows=23 loops=1)\r\n",
      "   Sort Key: h.yearid, p.playerid\r\n",
      "   Sort Method: quicksort  Memory: 26kB\r\n",
      "   ->  Nested Loop  (cost=0.85..201.53 rows=11 width=326) (actual time=1.421..3.630 rows=23 loops=1)\r\n",
      "         Join Filter: ((h.playerid)::text = (p.playerid)::text)\r\n",
      "         ->  Nested Loop  (cost=0.56..196.76 rows=11 width=99) (actual time=1.374..3.338 rows=23 loops=1)\r\n",
      "               ->  Nested Loop  (cost=0.29..180.16 rows=55 width=59) (actual time=0.094..2.638 rows=137 loops=1)\r\n",
      "                     ->  Seq Scan on halloffame h  (cost=0.00..96.39 rows=21 width=42) (actual time=0.027..0.823 rows=323 loops=1)\r\n",
      "                           Filter: ((inducted)::text = 'Y'::text)\r\n",
      "                           Rows Removed by Filter: 3868\r\n",
      "                     ->  Index Only Scan using collegeplaying_pkey on collegeplaying c  (cost=0.29..3.96 rows=3 width=17) (actual time=0.005..0.005 rows=0 loops=323)\r\n",
      "                           Index Cond: (playerid = (h.playerid)::text)\r\n",
      "                           Heap Fetches: 0\r\n",
      "               ->  Index Scan using schools_pkey on schools s  (cost=0.28..0.30 rows=1 width=48) (actual time=0.005..0.005 rows=0 loops=137)\r\n",
      "                     Index Cond: ((schoolid)::text = (c.schoolid)::text)\r\n",
      "                     Filter: ((schoolstate)::text ~~ '%CA%'::text)\r\n",
      "                     Rows Removed by Filter: 1\r\n",
      "         ->  Index Scan using master_pkey on people p  (cost=0.29..0.42 rows=1 width=274) (actual time=0.011..0.011 rows=1 loops=23)\r\n",
      "               Index Cond: ((playerid)::text = (c.playerid)::text)\r\n",
      " Planning Time: 1.483 ms\r\n",
      " Execution Time: 3.934 ms\r\n",
      "(21 rows)\r\n",
      "\r\n"
     ]
    }
   ],
   "source": [
    "query_view_str = \"Select P.namefirst, P.namelast, P.playerid, S.schoolid, H.yearid From schools AS S, collegeplaying AS C, halloffame AS H, people AS P Where S.schoolid = C.schoolid And H.playerid = C.playerid And P.playerid = H.playerid And H.inducted = 'Y' And S.schoolstate Like '%CA%' Order By yearid, playerid\"\n",
    "!psql -h localhost -d baseball -c \"explain analyze $query_view_str\""
   ]
  },
  {
   "cell_type": "code",
   "execution_count": 43,
   "metadata": {},
   "outputs": [],
   "source": [
    "query_view_cost = 530.78\n",
    "query_view_timing = 14.885"
   ]
  },
  {
   "cell_type": "code",
   "execution_count": 44,
   "metadata": {
    "deletable": false,
    "editable": false
   },
   "outputs": [
    {
     "data": {
      "text/html": [
       "\n",
       "    <p><strong>q2a</strong> passed!</p>\n",
       "    "
      ],
      "text/plain": [
       "q2a passed!"
      ]
     },
     "execution_count": 44,
     "metadata": {},
     "output_type": "execute_result"
    }
   ],
   "source": [
    "grader.check(\"q2a\")"
   ]
  },
  {
   "cell_type": "markdown",
   "metadata": {},
   "source": [
    "### Question 2b:\n",
    "Now, add a filter to only return rows from `inducted_hof_ca` where the year is later than 2010. Inspect the query plan and record the execution time and cost."
   ]
  },
  {
   "cell_type": "code",
   "execution_count": 45,
   "metadata": {},
   "outputs": [
    {
     "name": "stdout",
     "output_type": "stream",
     "text": [
      " * postgresql://jovyan@127.0.0.1:5432/baseball\n",
      "   postgresql://jovyan@127.0.0.1:5432/postgres\n",
      "8 rows affected.\n",
      "Returning data to local variable result_2b\n"
     ]
    }
   ],
   "source": [
    "%%sql result_2b <<\n",
    "Select * \n",
    "From inducted_hof_ca\n",
    "Where yearid > 2010;"
   ]
  },
  {
   "cell_type": "code",
   "execution_count": 46,
   "metadata": {
    "scrolled": true
   },
   "outputs": [
    {
     "name": "stdout",
     "output_type": "stream",
     "text": [
      "                                                                             QUERY PLAN                                                                              \r\n",
      "---------------------------------------------------------------------------------------------------------------------------------------------------------------------\r\n",
      " Sort  (cost=212.19..212.22 rows=11 width=326) (actual time=1.817..1.820 rows=8 loops=1)\r\n",
      "   Sort Key: h.yearid, p.playerid\r\n",
      "   Sort Method: quicksort  Memory: 25kB\r\n",
      "   ->  Nested Loop  (cost=0.85..212.00 rows=11 width=326) (actual time=1.086..1.758 rows=8 loops=1)\r\n",
      "         Join Filter: ((h.playerid)::text = (p.playerid)::text)\r\n",
      "         ->  Nested Loop  (cost=0.56..207.24 rows=11 width=70) (actual time=1.045..1.627 rows=8 loops=1)\r\n",
      "               ->  Nested Loop  (cost=0.29..190.63 rows=55 width=30) (actual time=1.008..1.380 rows=27 loops=1)\r\n",
      "                     ->  Seq Scan on halloffame h  (cost=0.00..106.86 rows=21 width=13) (actual time=0.935..1.025 rows=31 loops=1)\r\n",
      "                           Filter: ((yearid > 2010) AND ((inducted)::text = 'Y'::text))\r\n",
      "                           Rows Removed by Filter: 4160\r\n",
      "                     ->  Index Only Scan using collegeplaying_pkey on collegeplaying c  (cost=0.29..3.96 rows=3 width=17) (actual time=0.010..0.010 rows=1 loops=31)\r\n",
      "                           Index Cond: (playerid = (h.playerid)::text)\r\n",
      "                           Heap Fetches: 0\r\n",
      "               ->  Index Scan using schools_pkey on schools s  (cost=0.28..0.30 rows=1 width=48) (actual time=0.008..0.008 rows=0 loops=27)\r\n",
      "                     Index Cond: ((schoolid)::text = (c.schoolid)::text)\r\n",
      "                     Filter: ((schoolstate)::text ~~ '%CA%'::text)\r\n",
      "                     Rows Removed by Filter: 1\r\n",
      "         ->  Index Scan using master_pkey on people p  (cost=0.29..0.42 rows=1 width=274) (actual time=0.015..0.015 rows=1 loops=8)\r\n",
      "               Index Cond: ((playerid)::text = (c.playerid)::text)\r\n",
      " Planning Time: 3.580 ms\r\n",
      " Execution Time: 2.126 ms\r\n",
      "(21 rows)\r\n",
      "\r\n"
     ]
    }
   ],
   "source": [
    "query_view_with_filter_str = \"Select * From inducted_hof_ca Where yearid > 2010\"\n",
    "!psql -h localhost -d baseball -c \"explain analyze $query_view_with_filter_str\""
   ]
  },
  {
   "cell_type": "code",
   "execution_count": 47,
   "metadata": {},
   "outputs": [],
   "source": [
    "query_view_with_filter_cost = 209.93\n",
    "query_view_with_filter_timing = 1.859"
   ]
  },
  {
   "cell_type": "code",
   "execution_count": 48,
   "metadata": {
    "deletable": false,
    "editable": false
   },
   "outputs": [
    {
     "data": {
      "text/html": [
       "\n",
       "    <p><strong>q2b</strong> passed!</p>\n",
       "    "
      ],
      "text/plain": [
       "q2b passed!"
      ]
     },
     "execution_count": 48,
     "metadata": {},
     "output_type": "execute_result"
    }
   ],
   "source": [
    "grader.check(\"q2b\")"
   ]
  },
  {
   "cell_type": "markdown",
   "metadata": {
    "deletable": false,
    "editable": false
   },
   "source": [
    "### Question 2c:\n",
    "Given your findings from inspecting the query plans of queries from `Question 2a-b`, answer the following question. Assign the variable `q2c` to a list of all statements which are true.\n",
    "\n",
    "1. Consider the following statements:\n",
    "    1. Adding a filter lowered the cost.\n",
    "    1. Adding a filter increased the cost.\n",
    "    1. Adding a filter did not change the cost.\n",
    "    1. Adding a filter increased the execution time.\n",
    "    1. Adding a filter decreased the execution time.\n",
    "    1. Adding a filter did not change the execution time.\n",
    "    1. No statement is true.\n",
    "    \n",
    "    \n",
    "**Note:** Your answer should look like `q2c = ['A', 'B']`\n",
    "\n",
    "<!--\n",
    "BEGIN QUESTION\n",
    "name: q2c\n",
    "points: 2\n",
    "-->"
   ]
  },
  {
   "cell_type": "code",
   "execution_count": 49,
   "metadata": {},
   "outputs": [],
   "source": [
    "q2c = ['A', 'E']"
   ]
  },
  {
   "cell_type": "code",
   "execution_count": 50,
   "metadata": {
    "deletable": false,
    "editable": false
   },
   "outputs": [
    {
     "data": {
      "text/html": [
       "\n",
       "    <p><strong>q2c</strong> passed!</p>\n",
       "    "
      ],
      "text/plain": [
       "q2c passed!"
      ]
     },
     "execution_count": 50,
     "metadata": {},
     "output_type": "execute_result"
    }
   ],
   "source": [
    "grader.check(\"q2c\")"
   ]
  },
  {
   "cell_type": "markdown",
   "metadata": {
    "deletable": false,
    "editable": false
   },
   "source": [
    "<!-- BEGIN QUESTION -->\n",
    "\n",
    "#### Question 2d:\n",
    "\n",
    "Explain your answer based on your findings and details from the query plans (your explanation should include why you didn't choose certain options).\n",
    "\n",
    "<!--\n",
    "BEGIN QUESTION\n",
    "name: q2d\n",
    "manual: true\n",
    "points: 2\n",
    "-->"
   ]
  },
  {
   "cell_type": "markdown",
   "metadata": {},
   "source": [
    "* The cost without the filter was 530.78, and the execution time was 14.885. The cost with the filter was 209.93, and the execution time was 1.859.\n",
    "* We get this information by running 'explain analyze'. Since both the cost and execution of using a filter is lower than without a filter, options A and E are correct. As such, options B, C, D, and F are incorrect. Since we've chosen two options, option G is also incorrect. These 2 options make sense since we're narrowing down the number of rows we actually want to select. The two query plans are both very similar besides the where predicate."
   ]
  },
  {
   "cell_type": "markdown",
   "metadata": {},
   "source": [
    "<!-- END QUESTION -->\n",
    "\n",
    "\n",
    "\n",
    "## Question 3: Joins\n",
    "### Question 3a:\n",
    "Perform a left, right, inner, and full join on the `people` and `collegeplaying` tables on the `playerid` column and inspect their respective query plans (in particular, look at the number of rows resulting from the query)."
   ]
  },
  {
   "cell_type": "code",
   "execution_count": 51,
   "metadata": {},
   "outputs": [
    {
     "name": "stdout",
     "output_type": "stream",
     "text": [
      " * postgresql://jovyan@127.0.0.1:5432/baseball\n",
      "   postgresql://jovyan@127.0.0.1:5432/postgres\n",
      "30145 rows affected.\n",
      "Returning data to local variable left_join\n"
     ]
    }
   ],
   "source": [
    "%%sql left_join <<\n",
    "Select *\n",
    "From people AS P\n",
    "Left Join collegeplaying AS C On P.playerid = C.playerid;"
   ]
  },
  {
   "cell_type": "code",
   "execution_count": 52,
   "metadata": {},
   "outputs": [
    {
     "name": "stdout",
     "output_type": "stream",
     "text": [
      "                                                        QUERY PLAN                                                         \r\n",
      "---------------------------------------------------------------------------------------------------------------------------\r\n",
      " Hash Right Join  (cost=861.83..1193.88 rows=19370 width=167) (actual time=12.093..41.993 rows=30145 loops=1)\r\n",
      "   Hash Cond: ((c.playerid)::text = (p.playerid)::text)\r\n",
      "   ->  Seq Scan on collegeplaying c  (cost=0.00..286.50 rows=17350 width=21) (actual time=0.027..1.596 rows=17350 loops=1)\r\n",
      "   ->  Hash  (cost=619.70..619.70 rows=19370 width=146) (actual time=11.662..11.664 rows=19370 loops=1)\r\n",
      "         Buckets: 32768  Batches: 1  Memory Usage: 3633kB\r\n",
      "         ->  Seq Scan on people p  (cost=0.00..619.70 rows=19370 width=146) (actual time=0.021..2.484 rows=19370 loops=1)\r\n",
      " Planning Time: 1.313 ms\r\n",
      " Execution Time: 43.317 ms\r\n",
      "(8 rows)\r\n",
      "\r\n"
     ]
    }
   ],
   "source": [
    "left_join_query_str = \"Select * From people AS P Left Join collegeplaying AS C On P.playerid = C.playerid\"\n",
    "!psql -h localhost -d baseball -c \"explain analyze $left_join_query_str\""
   ]
  },
  {
   "cell_type": "code",
   "execution_count": 53,
   "metadata": {},
   "outputs": [
    {
     "name": "stdout",
     "output_type": "stream",
     "text": [
      " * postgresql://jovyan@127.0.0.1:5432/baseball\n",
      "   postgresql://jovyan@127.0.0.1:5432/postgres\n",
      "17350 rows affected.\n",
      "Returning data to local variable right_join\n"
     ]
    }
   ],
   "source": [
    "%%sql right_join <<\n",
    "Select *\n",
    "From people AS P\n",
    "Right Join collegeplaying AS C On P.playerid = C.playerid;"
   ]
  },
  {
   "cell_type": "code",
   "execution_count": 54,
   "metadata": {},
   "outputs": [
    {
     "name": "stdout",
     "output_type": "stream",
     "text": [
      "                                                        QUERY PLAN                                                         \r\n",
      "---------------------------------------------------------------------------------------------------------------------------\r\n",
      " Hash Left Join  (cost=861.83..1193.88 rows=17350 width=167) (actual time=12.267..22.569 rows=17350 loops=1)\r\n",
      "   Hash Cond: ((c.playerid)::text = (p.playerid)::text)\r\n",
      "   ->  Seq Scan on collegeplaying c  (cost=0.00..286.50 rows=17350 width=21) (actual time=0.024..1.548 rows=17350 loops=1)\r\n",
      "   ->  Hash  (cost=619.70..619.70 rows=19370 width=146) (actual time=11.975..11.976 rows=19370 loops=1)\r\n",
      "         Buckets: 32768  Batches: 1  Memory Usage: 3633kB\r\n",
      "         ->  Seq Scan on people p  (cost=0.00..619.70 rows=19370 width=146) (actual time=0.017..2.836 rows=19370 loops=1)\r\n",
      " Planning Time: 1.187 ms\r\n",
      " Execution Time: 23.362 ms\r\n",
      "(8 rows)\r\n",
      "\r\n"
     ]
    }
   ],
   "source": [
    "right_join_query_str = \"Select * From people AS P Right Join collegeplaying AS C On P.playerid = C.playerid\"\n",
    "!psql -h localhost -d baseball -c \"explain analyze $right_join_query_str\""
   ]
  },
  {
   "cell_type": "code",
   "execution_count": 55,
   "metadata": {},
   "outputs": [
    {
     "name": "stdout",
     "output_type": "stream",
     "text": [
      " * postgresql://jovyan@127.0.0.1:5432/baseball\n",
      "   postgresql://jovyan@127.0.0.1:5432/postgres\n",
      "17350 rows affected.\n",
      "Returning data to local variable inner_join\n"
     ]
    }
   ],
   "source": [
    "%%sql inner_join <<\n",
    "Select *\n",
    "From people AS P\n",
    "Inner Join collegeplaying AS C On P.playerid = C.playerid;"
   ]
  },
  {
   "cell_type": "code",
   "execution_count": 56,
   "metadata": {},
   "outputs": [
    {
     "name": "stdout",
     "output_type": "stream",
     "text": [
      "                                                        QUERY PLAN                                                         \r\n",
      "---------------------------------------------------------------------------------------------------------------------------\r\n",
      " Hash Join  (cost=861.83..1193.88 rows=17350 width=167) (actual time=9.797..20.708 rows=17350 loops=1)\r\n",
      "   Hash Cond: ((c.playerid)::text = (p.playerid)::text)\r\n",
      "   ->  Seq Scan on collegeplaying c  (cost=0.00..286.50 rows=17350 width=21) (actual time=0.021..1.588 rows=17350 loops=1)\r\n",
      "   ->  Hash  (cost=619.70..619.70 rows=19370 width=146) (actual time=9.530..9.533 rows=19370 loops=1)\r\n",
      "         Buckets: 32768  Batches: 1  Memory Usage: 3633kB\r\n",
      "         ->  Seq Scan on people p  (cost=0.00..619.70 rows=19370 width=146) (actual time=0.017..2.237 rows=19370 loops=1)\r\n",
      " Planning Time: 1.075 ms\r\n",
      " Execution Time: 21.598 ms\r\n",
      "(8 rows)\r\n",
      "\r\n"
     ]
    }
   ],
   "source": [
    "inner_join_query_str = \"Select * From people AS P Inner Join collegeplaying AS C On P.playerid = C.playerid\"\n",
    "!psql -h localhost -d baseball -c \"explain analyze $inner_join_query_str\""
   ]
  },
  {
   "cell_type": "code",
   "execution_count": 57,
   "metadata": {},
   "outputs": [
    {
     "name": "stdout",
     "output_type": "stream",
     "text": [
      " * postgresql://jovyan@127.0.0.1:5432/baseball\n",
      "   postgresql://jovyan@127.0.0.1:5432/postgres\n",
      "30145 rows affected.\n",
      "Returning data to local variable full_join\n"
     ]
    }
   ],
   "source": [
    "%%sql full_join <<\n",
    "Select *\n",
    "From people AS P\n",
    "Full Join collegeplaying AS C On P.playerid = C.playerid;"
   ]
  },
  {
   "cell_type": "code",
   "execution_count": 58,
   "metadata": {},
   "outputs": [
    {
     "name": "stdout",
     "output_type": "stream",
     "text": [
      "                                                        QUERY PLAN                                                         \r\n",
      "---------------------------------------------------------------------------------------------------------------------------\r\n",
      " Hash Full Join  (cost=861.83..1193.88 rows=19370 width=167) (actual time=9.291..29.912 rows=30145 loops=1)\r\n",
      "   Hash Cond: ((c.playerid)::text = (p.playerid)::text)\r\n",
      "   ->  Seq Scan on collegeplaying c  (cost=0.00..286.50 rows=17350 width=21) (actual time=0.021..1.699 rows=17350 loops=1)\r\n",
      "   ->  Hash  (cost=619.70..619.70 rows=19370 width=146) (actual time=9.023..9.027 rows=19370 loops=1)\r\n",
      "         Buckets: 32768  Batches: 1  Memory Usage: 3633kB\r\n",
      "         ->  Seq Scan on people p  (cost=0.00..619.70 rows=19370 width=146) (actual time=0.020..2.201 rows=19370 loops=1)\r\n",
      " Planning Time: 1.021 ms\r\n",
      " Execution Time: 31.360 ms\r\n",
      "(8 rows)\r\n",
      "\r\n"
     ]
    }
   ],
   "source": [
    "full_join_query_str = \"Select * From people AS P Full Join collegeplaying AS C On P.playerid = C.playerid\"\n",
    "!psql -h localhost -d baseball -c \"explain analyze $full_join_query_str\""
   ]
  },
  {
   "cell_type": "code",
   "execution_count": 59,
   "metadata": {},
   "outputs": [],
   "source": [
    "# Do not delete/edit this cell\n",
    "left_join.DataFrame().iloc[:, 1:].sort_values(['playerid', 'schoolid', 'yearid']).iloc[:1000].to_csv('results/result_3a_left.csv', index=False)\n",
    "right_join.DataFrame().iloc[:, 1:].sort_values(['playerid', 'schoolid', 'yearid']).iloc[:1000].to_csv('results/result_3a_right.csv', index=False)\n",
    "inner_join.DataFrame().iloc[:, 1:].sort_values(['playerid', 'schoolid', 'yearid']).iloc[:1000].to_csv('results/result_3a_inner.csv', index=False)\n",
    "full_join.DataFrame().iloc[:, 1:].sort_values(['playerid', 'schoolid', 'yearid']).iloc[:1000].to_csv('results/result_3a_full.csv', index=False)"
   ]
  },
  {
   "cell_type": "code",
   "execution_count": 60,
   "metadata": {
    "deletable": false,
    "editable": false
   },
   "outputs": [
    {
     "data": {
      "text/html": [
       "\n",
       "    <p><strong>q3a</strong> passed!</p>\n",
       "    "
      ],
      "text/plain": [
       "q3a passed!"
      ]
     },
     "execution_count": 60,
     "metadata": {},
     "output_type": "execute_result"
    }
   ],
   "source": [
    "grader.check(\"q3a\")"
   ]
  },
  {
   "cell_type": "markdown",
   "metadata": {
    "deletable": false,
    "editable": false
   },
   "source": [
    "### Question 3b:\n",
    "#### Question 3bi:\n",
    "Given your findings from inspecting the query plan of the different joins, answer the following question. Assign the variable `q3b_part1` to a list of all the options which are true for the proposed statement.\n",
    "\n",
    "1. For the query joining `people` and `collegeplaying` tables on the `playerid`,  the `INNER JOIN` output is the same as:\n",
    "    1. the `LEFT JOIN` output\n",
    "    1. the `RIGHT JOIN` output\n",
    "    1. the `FULL JOIN` output\n",
    "    1. None of the above \n",
    "\n",
    "**Note:** Your answer should be formatted as follows: `q3b_part1 = ['A', 'B']`\n",
    "\n",
    "<!--\n",
    "BEGIN QUESTION\n",
    "name: q3bi\n",
    "points: 1\n",
    "-->"
   ]
  },
  {
   "cell_type": "code",
   "execution_count": 61,
   "metadata": {},
   "outputs": [],
   "source": [
    "q3b_part1 = ['B']"
   ]
  },
  {
   "cell_type": "code",
   "execution_count": 62,
   "metadata": {
    "deletable": false,
    "editable": false
   },
   "outputs": [
    {
     "data": {
      "text/html": [
       "\n",
       "    <p><strong>q3bi</strong> passed!</p>\n",
       "    "
      ],
      "text/plain": [
       "q3bi passed!"
      ]
     },
     "execution_count": 62,
     "metadata": {},
     "output_type": "execute_result"
    }
   ],
   "source": [
    "grader.check(\"q3bi\")"
   ]
  },
  {
   "cell_type": "markdown",
   "metadata": {
    "deletable": false,
    "editable": false
   },
   "source": [
    "<!-- BEGIN QUESTION -->\n",
    "\n",
    "#### Question 3bii\n",
    "Explain your answer to the previous part. If you did not select answer choice `D`, ensure your explanation discusses if your findings can be generalized for all queries.\n",
    "\n",
    "<!--\n",
    "BEGIN QUESTION\n",
    "name: q3bii\n",
    "manual: true\n",
    "points: 2\n",
    "-->"
   ]
  },
  {
   "cell_type": "markdown",
   "metadata": {},
   "source": [
    "* I selected option B because we see that the number of rows in both resulting tables from the inner join and the right join are the same. Also, when we display the tables as dataframes, we see that the rows from each table match one another, showing that the outputs are in fact the same.\n",
    "* I don't believe we can generalize this outcome to all queries. Inner joins and right joins serve different purposes by nature, so obviously they wouldn't output the same result for all queries. \n",
    "* What seems to be the case here is that all the values in the right joined table (collegeplaying) are in the original table (people), so a right join just results with the same number of rows as collegeplaying, and so does the inner join. For queries dealing with two tables in the same scenario as above, I presume, however, the outcome would be the same."
   ]
  },
  {
   "cell_type": "markdown",
   "metadata": {
    "deletable": false,
    "editable": false
   },
   "source": [
    "<!-- END QUESTION -->\n",
    "\n",
    "#### Question 3ci:\n",
    "Given your findings from inspecting the query plan of the different joins, answer the following question. Assign the variable `q3c_part1` to a list of all options which are true for the proposed statement.\n",
    "\n",
    "1. For the query joining `people` and `collegeplaying` tables on the `playerid`, the `FULL JOIN` output is the same as:\n",
    "    1. the `LEFT JOIN` output\n",
    "    1. the `RIGHT JOIN` output\n",
    "    1. the `INNER JOIN` output\n",
    "    1. None of the above   \n",
    "\n",
    "**Note:** Your answer should be formatted as follows: `q3c_part1 = ['A', 'B']`\n",
    "\n",
    "<!--\n",
    "BEGIN QUESTION\n",
    "name: q3ci\n",
    "points: 1\n",
    "-->"
   ]
  },
  {
   "cell_type": "code",
   "execution_count": 63,
   "metadata": {},
   "outputs": [],
   "source": [
    "q3c_part1 = 'A'"
   ]
  },
  {
   "cell_type": "code",
   "execution_count": 64,
   "metadata": {
    "deletable": false,
    "editable": false
   },
   "outputs": [
    {
     "data": {
      "text/html": [
       "\n",
       "    <p><strong>q3ci</strong> passed!</p>\n",
       "    "
      ],
      "text/plain": [
       "q3ci passed!"
      ]
     },
     "execution_count": 64,
     "metadata": {},
     "output_type": "execute_result"
    }
   ],
   "source": [
    "grader.check(\"q3ci\")"
   ]
  },
  {
   "cell_type": "markdown",
   "metadata": {
    "deletable": false,
    "editable": false
   },
   "source": [
    "<!-- BEGIN QUESTION -->\n",
    "\n",
    "#### Question 3cii\n",
    "\n",
    "Explain your answer to the previous part. If you did not select answer choice `D`, ensure your explanation discusses if your findings can be generalized for all queries.\n",
    "\n",
    "<!--\n",
    "BEGIN QUESTION\n",
    "name: q3cii\n",
    "manual: true\n",
    "points: 2\n",
    "-->"
   ]
  },
  {
   "cell_type": "markdown",
   "metadata": {},
   "source": [
    "* I selected option A because we see that the number of rows in both resulting tables from the full join and the left join are the same. Also, when we display the tables as dataframes, we see that the rows from each table match one another, showing that the outputs are in fact the same.\n",
    "* I don't believe we can generalize this outcome to all queries. Full joins and left joins serve different purposes by nature, so obviously they wouldn't output the same result for all queries. \n",
    "* What seems to be the case here is similar to what was stated above. Since all of the values in collegeplaying are in people, all the data from collegeplaying would fall in the intersection between the two tables. The rest of the data is just the left joined table (people) that isn't it collegeplaying. As a result, the full join and the left join are essentially the same when dealing with these two tables. For queries dealing with two tables in the same scenario as above, I presume, however, the outcome would be the same."
   ]
  },
  {
   "cell_type": "markdown",
   "metadata": {},
   "source": [
    "<!-- END QUESTION -->\n",
    "\n",
    "\n",
    "\n",
    "### Question 4: Indexes\n",
    "\n",
    "#### Question 4a:\n",
    "Write a query that outputs the `playerid` and average `salary` for each player that only batted in 10 games (the number of games in which a player batted can be found in the `g_batting` column of the `appearances` table). Inspect the query plan and record the execution time and cost."
   ]
  },
  {
   "cell_type": "code",
   "execution_count": 65,
   "metadata": {},
   "outputs": [
    {
     "name": "stdout",
     "output_type": "stream",
     "text": [
      " * postgresql://jovyan@127.0.0.1:5432/baseball\n",
      "   postgresql://jovyan@127.0.0.1:5432/postgres\n",
      "134 rows affected.\n",
      "Returning data to local variable result_4a\n"
     ]
    }
   ],
   "source": [
    "%%sql result_4a <<\n",
    "Select S.playerid, AVG(S.salary) AS avg_salary\n",
    "From salaries AS S, appearances AS A\n",
    "Where S.playerid = A.playerid\n",
    "And S.yearid = A.yearid\n",
    "And S.teamid = A.teamid\n",
    "And g_batting = 10\n",
    "Group By S.playerid;"
   ]
  },
  {
   "cell_type": "code",
   "execution_count": 66,
   "metadata": {},
   "outputs": [],
   "source": [
    "# Do not delete/edit this cell\n",
    "result_4a.DataFrame().sort_values('playerid').to_csv('results/result_4a.csv', index=False)"
   ]
  },
  {
   "cell_type": "code",
   "execution_count": 67,
   "metadata": {
    "deletable": false,
    "editable": false
   },
   "outputs": [
    {
     "data": {
      "text/html": [
       "\n",
       "    <p><strong>q4ai</strong> passed!</p>\n",
       "    "
      ],
      "text/plain": [
       "q4ai passed!"
      ]
     },
     "execution_count": 67,
     "metadata": {},
     "output_type": "execute_result"
    }
   ],
   "source": [
    "grader.check(\"q4ai\")"
   ]
  },
  {
   "cell_type": "code",
   "execution_count": 68,
   "metadata": {},
   "outputs": [
    {
     "name": "stdout",
     "output_type": "stream",
     "text": [
      "                                                                QUERY PLAN                                                                \r\n",
      "------------------------------------------------------------------------------------------------------------------------------------------\r\n",
      " GroupAggregate  (cost=3564.15..3564.17 rows=1 width=17) (actual time=22.278..22.346 rows=134 loops=1)\r\n",
      "   Group Key: s.playerid\r\n",
      "   ->  Sort  (cost=3564.15..3564.15 rows=1 width=17) (actual time=22.263..22.273 rows=138 loops=1)\r\n",
      "         Sort Key: s.playerid\r\n",
      "         Sort Method: quicksort  Memory: 35kB\r\n",
      "         ->  Hash Join  (cost=2896.74..3564.14 rows=1 width=17) (actual time=15.365..22.059 rows=138 loops=1)\r\n",
      "               Hash Cond: (((s.playerid)::text = (a.playerid)::text) AND (s.yearid = a.yearid) AND ((s.teamid)::text = (a.teamid)::text))\r\n",
      "               ->  Seq Scan on salaries s  (cost=0.00..459.28 rows=26428 width=25) (actual time=0.019..2.287 rows=26428 loops=1)\r\n",
      "               ->  Hash  (cost=2873.20..2873.20 rows=1345 width=17) (actual time=15.150..15.151 rows=1347 loops=1)\r\n",
      "                     Buckets: 2048  Batches: 1  Memory Usage: 85kB\r\n",
      "                     ->  Seq Scan on appearances a  (cost=0.00..2873.20 rows=1345 width=17) (actual time=0.021..14.741 rows=1347 loops=1)\r\n",
      "                           Filter: (g_batting = 10)\r\n",
      "                           Rows Removed by Filter: 102909\r\n",
      " Planning Time: 1.395 ms\r\n",
      " Execution Time: 22.522 ms\r\n",
      "(15 rows)\r\n",
      "\r\n"
     ]
    }
   ],
   "source": [
    "result_4a_query_str = \"Select S.playerid, AVG(S.salary) AS avg_salary From salaries AS S, appearances AS A Where S.playerid = A.playerid And S.yearid = A.yearid And S.teamid = A.teamid And g_batting = 10 Group By S.playerid\"\n",
    "!psql -h localhost -d baseball -c \"explain analyze $result_4a_query_str\""
   ]
  },
  {
   "cell_type": "code",
   "execution_count": 69,
   "metadata": {},
   "outputs": [],
   "source": [
    "result_4a_cost = 3564.54\n",
    "result_4a_timing = 47.958"
   ]
  },
  {
   "cell_type": "code",
   "execution_count": 70,
   "metadata": {
    "deletable": false,
    "editable": false
   },
   "outputs": [
    {
     "data": {
      "text/html": [
       "\n",
       "    <p><strong>q4aii</strong> passed!</p>\n",
       "    "
      ],
      "text/plain": [
       "q4aii passed!"
      ]
     },
     "execution_count": 70,
     "metadata": {},
     "output_type": "execute_result"
    }
   ],
   "source": [
    "grader.check(\"q4aii\")"
   ]
  },
  {
   "cell_type": "markdown",
   "metadata": {},
   "source": [
    "### Question 4b:\n",
    "Add an index with name `g_batting_idx` on the `g_batting` column of the `appearances` table."
   ]
  },
  {
   "cell_type": "code",
   "execution_count": 71,
   "metadata": {},
   "outputs": [
    {
     "name": "stdout",
     "output_type": "stream",
     "text": [
      " * postgresql://jovyan@127.0.0.1:5432/baseball\n",
      "   postgresql://jovyan@127.0.0.1:5432/postgres\n",
      "Done.\n",
      "Returning data to local variable result_4b\n"
     ]
    }
   ],
   "source": [
    "%%sql result_4b <<\n",
    "Create INDEX g_batting_idx\n",
    "On appearances(g_batting);"
   ]
  },
  {
   "cell_type": "markdown",
   "metadata": {},
   "source": [
    "Now, re-inspect the query plan of the query from `Question 4a` and record its execution time and cost."
   ]
  },
  {
   "cell_type": "code",
   "execution_count": 72,
   "metadata": {},
   "outputs": [
    {
     "name": "stdout",
     "output_type": "stream",
     "text": [
      "                                                                     QUERY PLAN                                                                      \r\n",
      "-----------------------------------------------------------------------------------------------------------------------------------------------------\r\n",
      " GroupAggregate  (cost=2305.47..2305.49 rows=1 width=17) (actual time=10.680..10.747 rows=134 loops=1)\r\n",
      "   Group Key: s.playerid\r\n",
      "   ->  Sort  (cost=2305.47..2305.47 rows=1 width=17) (actual time=10.664..10.675 rows=138 loops=1)\r\n",
      "         Sort Key: s.playerid\r\n",
      "         Sort Method: quicksort  Memory: 35kB\r\n",
      "         ->  Hash Join  (cost=1638.06..2305.46 rows=1 width=17) (actual time=3.576..10.458 rows=138 loops=1)\r\n",
      "               Hash Cond: (((s.playerid)::text = (a.playerid)::text) AND (s.yearid = a.yearid) AND ((s.teamid)::text = (a.teamid)::text))\r\n",
      "               ->  Seq Scan on salaries s  (cost=0.00..459.28 rows=26428 width=25) (actual time=0.015..2.380 rows=26428 loops=1)\r\n",
      "               ->  Hash  (cost=1614.52..1614.52 rows=1345 width=17) (actual time=3.382..3.384 rows=1347 loops=1)\r\n",
      "                     Buckets: 2048  Batches: 1  Memory Usage: 85kB\r\n",
      "                     ->  Bitmap Heap Scan on appearances a  (cost=18.72..1614.52 rows=1345 width=17) (actual time=0.324..3.001 rows=1347 loops=1)\r\n",
      "                           Recheck Cond: (g_batting = 10)\r\n",
      "                           Heap Blocks: exact=899\r\n",
      "                           ->  Bitmap Index Scan on g_batting_idx  (cost=0.00..18.38 rows=1345 width=0) (actual time=0.197..0.197 rows=1347 loops=1)\r\n",
      "                                 Index Cond: (g_batting = 10)\r\n",
      " Planning Time: 1.664 ms\r\n",
      " Execution Time: 10.906 ms\r\n",
      "(17 rows)\r\n",
      "\r\n"
     ]
    }
   ],
   "source": [
    "!psql -h localhost -d baseball -c \"explain analyze $result_4a_query_str\""
   ]
  },
  {
   "cell_type": "code",
   "execution_count": 73,
   "metadata": {},
   "outputs": [],
   "source": [
    "result_4b_cost = 2311.33\n",
    "result_4b_timing = 18.962"
   ]
  },
  {
   "cell_type": "code",
   "execution_count": 74,
   "metadata": {
    "deletable": false,
    "editable": false
   },
   "outputs": [
    {
     "data": {
      "text/html": [
       "\n",
       "    <p><strong>q4b</strong> passed!</p>\n",
       "    "
      ],
      "text/plain": [
       "q4b passed!"
      ]
     },
     "execution_count": 74,
     "metadata": {},
     "output_type": "execute_result"
    }
   ],
   "source": [
    "grader.check(\"q4b\")"
   ]
  },
  {
   "cell_type": "markdown",
   "metadata": {},
   "source": [
    "In the following question, we will explore adding a different index and evaluating the query from `Question 4a`. To avoid any interference by the `g_batting_idx` index, drop the index before moving onto the next question."
   ]
  },
  {
   "cell_type": "code",
   "execution_count": 75,
   "metadata": {},
   "outputs": [
    {
     "name": "stdout",
     "output_type": "stream",
     "text": [
      " * postgresql://jovyan@127.0.0.1:5432/baseball\n",
      "   postgresql://jovyan@127.0.0.1:5432/postgres\n",
      "Done.\n"
     ]
    },
    {
     "data": {
      "text/plain": [
       "[]"
      ]
     },
     "execution_count": 75,
     "metadata": {},
     "output_type": "execute_result"
    }
   ],
   "source": [
    "%%sql \n",
    "Drop INDEX g_batting_idx;"
   ]
  },
  {
   "cell_type": "markdown",
   "metadata": {},
   "source": [
    "### Question 4c:\n",
    "Write a query to add an index with name `salary_idx` on the `salary` column of the `salaries` table."
   ]
  },
  {
   "cell_type": "code",
   "execution_count": 76,
   "metadata": {},
   "outputs": [
    {
     "name": "stdout",
     "output_type": "stream",
     "text": [
      " * postgresql://jovyan@127.0.0.1:5432/baseball\n",
      "   postgresql://jovyan@127.0.0.1:5432/postgres\n",
      "Done.\n",
      "Returning data to local variable result_4c\n"
     ]
    }
   ],
   "source": [
    "%%sql result_4c <<\n",
    "Create INDEX salary_idx\n",
    "On salaries(salary);"
   ]
  },
  {
   "cell_type": "markdown",
   "metadata": {},
   "source": [
    "Re-inspect the query plan of the query from the `Question 4a` and record its execution time and cost."
   ]
  },
  {
   "cell_type": "code",
   "execution_count": 77,
   "metadata": {},
   "outputs": [
    {
     "name": "stdout",
     "output_type": "stream",
     "text": [
      "                                                                QUERY PLAN                                                                \r\n",
      "------------------------------------------------------------------------------------------------------------------------------------------\r\n",
      " GroupAggregate  (cost=3564.15..3564.17 rows=1 width=17) (actual time=23.489..23.558 rows=134 loops=1)\r\n",
      "   Group Key: s.playerid\r\n",
      "   ->  Sort  (cost=3564.15..3564.15 rows=1 width=17) (actual time=23.476..23.486 rows=138 loops=1)\r\n",
      "         Sort Key: s.playerid\r\n",
      "         Sort Method: quicksort  Memory: 35kB\r\n",
      "         ->  Hash Join  (cost=2896.74..3564.14 rows=1 width=17) (actual time=15.926..23.266 rows=138 loops=1)\r\n",
      "               Hash Cond: (((s.playerid)::text = (a.playerid)::text) AND (s.yearid = a.yearid) AND ((s.teamid)::text = (a.teamid)::text))\r\n",
      "               ->  Seq Scan on salaries s  (cost=0.00..459.28 rows=26428 width=25) (actual time=0.023..2.606 rows=26428 loops=1)\r\n",
      "               ->  Hash  (cost=2873.20..2873.20 rows=1345 width=17) (actual time=15.690..15.691 rows=1347 loops=1)\r\n",
      "                     Buckets: 2048  Batches: 1  Memory Usage: 85kB\r\n",
      "                     ->  Seq Scan on appearances a  (cost=0.00..2873.20 rows=1345 width=17) (actual time=0.030..15.249 rows=1347 loops=1)\r\n",
      "                           Filter: (g_batting = 10)\r\n",
      "                           Rows Removed by Filter: 102909\r\n",
      " Planning Time: 1.829 ms\r\n",
      " Execution Time: 23.666 ms\r\n",
      "(15 rows)\r\n",
      "\r\n"
     ]
    }
   ],
   "source": [
    "!psql -h localhost -d baseball -c \"explain analyze $result_4a_query_str\""
   ]
  },
  {
   "cell_type": "code",
   "execution_count": 78,
   "metadata": {},
   "outputs": [],
   "source": [
    "result_4c_cost = 3564.54\n",
    "result_4c_timing = 59.287"
   ]
  },
  {
   "cell_type": "code",
   "execution_count": 79,
   "metadata": {
    "deletable": false,
    "editable": false
   },
   "outputs": [
    {
     "data": {
      "text/html": [
       "\n",
       "    <p><strong>q4c</strong> passed!</p>\n",
       "    "
      ],
      "text/plain": [
       "q4c passed!"
      ]
     },
     "execution_count": 79,
     "metadata": {},
     "output_type": "execute_result"
    }
   ],
   "source": [
    "grader.check(\"q4c\")"
   ]
  },
  {
   "cell_type": "markdown",
   "metadata": {
    "deletable": false,
    "editable": false
   },
   "source": [
    "### Question 4d:\n",
    "#### Question 4di:\n",
    "Given your findings from inspecting the query plans with no indexes, an index on `g_batting`, and an index on `salary`, answer the following question. Assign the variable `q4d_part1` to a list of all options which are true for the proposed statement.\n",
    "\n",
    "1. Consider the following statements:\n",
    "    1. Adding the `g_batting` index did not have a significant impact on the query execution time and cost.\n",
    "    1. Adding the `g_batting` index did have a significant impact on the query execution time, but not the cost.\n",
    "    1. Adding the `g_batting` index did have a significant impact on the query cost, but not the execution time.\n",
    "    1. Adding the `g_batting` index did have a significant impact on the query cost and execution time.\n",
    "    1. Adding the `salary` index did not have a significant impact on the query execution time and cost.\n",
    "    1. Adding the `salary` index did have a significant impact on the query execution time, but not the cost.\n",
    "    1. Adding the `salary` index did have a significant impact on the query cost, but not the execution time.\n",
    "    1. Adding the `salary` index did have a significant impact on the query cost and execution time.\n",
    "\n",
    "**Note:** Your answer should be formatted as follows: `q4d_part1 = ['A', 'B']`\n",
    "\n",
    "<!--\n",
    "BEGIN QUESTION\n",
    "name: q4di\n",
    "points: 2\n",
    "-->"
   ]
  },
  {
   "cell_type": "code",
   "execution_count": 80,
   "metadata": {},
   "outputs": [],
   "source": [
    "q4d_part1 = ['D', 'E']"
   ]
  },
  {
   "cell_type": "code",
   "execution_count": 81,
   "metadata": {
    "deletable": false,
    "editable": false
   },
   "outputs": [
    {
     "data": {
      "text/html": [
       "\n",
       "    <p><strong>q4di</strong> passed!</p>\n",
       "    "
      ],
      "text/plain": [
       "q4di passed!"
      ]
     },
     "execution_count": 81,
     "metadata": {},
     "output_type": "execute_result"
    }
   ],
   "source": [
    "grader.check(\"q4di\")"
   ]
  },
  {
   "cell_type": "markdown",
   "metadata": {
    "deletable": false,
    "editable": false
   },
   "source": [
    "<!-- BEGIN QUESTION -->\n",
    "\n",
    "#### Question 4dii:\n",
    "\n",
    "Explain your answer based on your findings from inspecting the query plans (your explanation should include why you didn't choose certain options).\n",
    "\n",
    "<!--\n",
    "BEGIN QUESTION\n",
    "name: q4dii\n",
    "manual: true\n",
    "points: 2\n",
    "-->"
   ]
  },
  {
   "cell_type": "markdown",
   "metadata": {},
   "source": [
    "* If we look at the cost and execution time from 4a, we get result_4a_cost = 3564.54 and result_4a_timing = 47.958.\n",
    "* Adding the g_batting index, our cost and execution time result_4b_cost = 2311.33 and result_4b_timing = 18.962.\n",
    "* Adding instead the salary index, our cost and execution time becomes result_4c_cost = 3564.54 and result_4c_timing = 59.287.\n",
    "* We can see that the g_batting index has a significant impact on both factors, each dropping by quite a bit. This makes sense since we're directly accessing the g_batting column in our where clause, thus making the index streamline the process of selecting desired tuples. As such, option D is correct, and so options A through C are incorrect.\n",
    "* However, the salary index does not have a different cost, while there is hardly a marginal difference to the execution time. This makes sense since the salary column has no relevance to the query we are running. It thus wouldn't expedite or enhance performance. As such, option E is true, since neither the cost nor the execution time improve (significantly). Also, we see in the query plan that the index isn't used at all, showing that salary_idx is essentially useless."
   ]
  },
  {
   "cell_type": "markdown",
   "metadata": {},
   "source": [
    "<!-- END QUESTION -->\n",
    "\n",
    "\n",
    "\n",
    "In the following question, we will further explore the impact of indexes on query performance. To avoid any interference by the `salary_idx` index, please drop the index before moving onto the next question."
   ]
  },
  {
   "cell_type": "code",
   "execution_count": 82,
   "metadata": {},
   "outputs": [
    {
     "name": "stdout",
     "output_type": "stream",
     "text": [
      " * postgresql://jovyan@127.0.0.1:5432/baseball\n",
      "   postgresql://jovyan@127.0.0.1:5432/postgres\n",
      "Done.\n"
     ]
    },
    {
     "data": {
      "text/plain": [
       "[]"
      ]
     },
     "execution_count": 82,
     "metadata": {},
     "output_type": "execute_result"
    }
   ],
   "source": [
    "%%sql \n",
    "Drop INDEX salary_idx;"
   ]
  },
  {
   "cell_type": "markdown",
   "metadata": {},
   "source": [
    "### Question 4e:\n",
    "#### Question 4ei:\n",
    "Write a query that finds the `playerid`, `yearid`, and `salary` for each player that had played 10 games and batted in 10 games. Your query should join the `salaries` and `appearances` table on `yearid`, `teamid`, and `playerid`."
   ]
  },
  {
   "cell_type": "code",
   "execution_count": 83,
   "metadata": {},
   "outputs": [
    {
     "name": "stdout",
     "output_type": "stream",
     "text": [
      " * postgresql://jovyan@127.0.0.1:5432/baseball\n",
      "   postgresql://jovyan@127.0.0.1:5432/postgres\n",
      "120 rows affected.\n",
      "Returning data to local variable result_4ei\n"
     ]
    }
   ],
   "source": [
    "%%sql result_4ei <<\n",
    "Select S.playerid, S.yearid, salary\n",
    "From salaries AS S, appearances AS A\n",
    "Where g_batting = 10\n",
    "And g_all = 10\n",
    "And S.playerid = A.playerid\n",
    "And S.yearid = A.yearid\n",
    "And S.teamid = A.teamid;"
   ]
  },
  {
   "cell_type": "code",
   "execution_count": 84,
   "metadata": {},
   "outputs": [],
   "source": [
    "# Do not delete/edit this cell\n",
    "result_4ei.DataFrame().sort_values(['playerid', 'yearid']).to_csv('results/result_4ei.csv', index=False)"
   ]
  },
  {
   "cell_type": "code",
   "execution_count": 85,
   "metadata": {
    "deletable": false,
    "editable": false
   },
   "outputs": [
    {
     "data": {
      "text/html": [
       "\n",
       "    <p><strong>q4ei_part1</strong> passed!</p>\n",
       "    "
      ],
      "text/plain": [
       "q4ei_part1 passed!"
      ]
     },
     "execution_count": 85,
     "metadata": {},
     "output_type": "execute_result"
    }
   ],
   "source": [
    "grader.check(\"q4ei_part1\")"
   ]
  },
  {
   "cell_type": "markdown",
   "metadata": {},
   "source": [
    "Inspect the query plan and record the execution time and cost."
   ]
  },
  {
   "cell_type": "code",
   "execution_count": 86,
   "metadata": {},
   "outputs": [
    {
     "name": "stdout",
     "output_type": "stream",
     "text": [
      "                                                             QUERY PLAN                                                             \r\n",
      "------------------------------------------------------------------------------------------------------------------------------------\r\n",
      " Nested Loop  (cost=0.29..3306.60 rows=1 width=21) (actual time=11.032..20.766 rows=120 loops=1)\r\n",
      "   ->  Seq Scan on appearances a  (cost=0.00..3133.84 rows=21 width=17) (actual time=0.025..16.368 rows=1289 loops=1)\r\n",
      "         Filter: ((g_batting = 10) AND (g_all = 10))\r\n",
      "         Rows Removed by Filter: 102967\r\n",
      "   ->  Index Scan using salaries_pkey on salaries s  (cost=0.29..8.22 rows=1 width=25) (actual time=0.003..0.003 rows=0 loops=1289)\r\n",
      "         Index Cond: ((yearid = a.yearid) AND ((teamid)::text = (a.teamid)::text) AND ((playerid)::text = (a.playerid)::text))\r\n",
      " Planning Time: 1.450 ms\r\n",
      " Execution Time: 20.857 ms\r\n",
      "(8 rows)\r\n",
      "\r\n"
     ]
    }
   ],
   "source": [
    "result_4ei_query_str = \"Select S.playerid, S.yearid, salary From salaries AS S, appearances AS A Where S.playerid = A.playerid And S.yearid = A.yearid And S.teamid = A.teamid And g_batting = 10 And g_all = 10\"\n",
    "!psql -h localhost -d baseball -c \"explain analyze $result_4ei_query_str\""
   ]
  },
  {
   "cell_type": "code",
   "execution_count": 87,
   "metadata": {},
   "outputs": [],
   "source": [
    "result_4ei_cost = 3306.60\n",
    "result_4ei_timing = 54.208"
   ]
  },
  {
   "cell_type": "code",
   "execution_count": 88,
   "metadata": {
    "deletable": false,
    "editable": false
   },
   "outputs": [
    {
     "data": {
      "text/html": [
       "\n",
       "    <p><strong>q4ei_part2</strong> passed!</p>\n",
       "    "
      ],
      "text/plain": [
       "q4ei_part2 passed!"
      ]
     },
     "execution_count": 88,
     "metadata": {},
     "output_type": "execute_result"
    }
   ],
   "source": [
    "grader.check(\"q4ei_part2\")"
   ]
  },
  {
   "cell_type": "markdown",
   "metadata": {},
   "source": [
    "#### Question 4eii:\n",
    "Now, let's see the impact of adding an index on the `g_batting` column. Create an index on the `g_batting` column. Re-inspect the query from `Question 4ei` and record the execution time and cost."
   ]
  },
  {
   "cell_type": "code",
   "execution_count": 89,
   "metadata": {
    "scrolled": true
   },
   "outputs": [
    {
     "name": "stdout",
     "output_type": "stream",
     "text": [
      " * postgresql://jovyan@127.0.0.1:5432/baseball\n",
      "   postgresql://jovyan@127.0.0.1:5432/postgres\n",
      "Done.\n",
      "Returning data to local variable result_4eii\n"
     ]
    }
   ],
   "source": [
    "%%sql result_4eii << \n",
    "Create INDEX g_batting_idx\n",
    "On appearances(g_batting);"
   ]
  },
  {
   "cell_type": "code",
   "execution_count": 90,
   "metadata": {},
   "outputs": [
    {
     "name": "stdout",
     "output_type": "stream",
     "text": [
      "                                                             QUERY PLAN                                                             \r\n",
      "------------------------------------------------------------------------------------------------------------------------------------\r\n",
      " Nested Loop  (cost=18.67..1790.31 rows=1 width=21) (actual time=3.298..7.246 rows=120 loops=1)\r\n",
      "   ->  Bitmap Heap Scan on appearances a  (cost=18.39..1617.55 rows=21 width=17) (actual time=0.346..3.073 rows=1289 loops=1)\r\n",
      "         Recheck Cond: (g_batting = 10)\r\n",
      "         Filter: (g_all = 10)\r\n",
      "         Rows Removed by Filter: 58\r\n",
      "         Heap Blocks: exact=899\r\n",
      "         ->  Bitmap Index Scan on g_batting_idx  (cost=0.00..18.38 rows=1345 width=0) (actual time=0.210..0.211 rows=1347 loops=1)\r\n",
      "               Index Cond: (g_batting = 10)\r\n",
      "   ->  Index Scan using salaries_pkey on salaries s  (cost=0.29..8.22 rows=1 width=25) (actual time=0.003..0.003 rows=0 loops=1289)\r\n",
      "         Index Cond: ((yearid = a.yearid) AND ((teamid)::text = (a.teamid)::text) AND ((playerid)::text = (a.playerid)::text))\r\n",
      " Planning Time: 1.830 ms\r\n",
      " Execution Time: 7.346 ms\r\n",
      "(12 rows)\r\n",
      "\r\n"
     ]
    }
   ],
   "source": [
    "!psql -h localhost -d baseball -c \"explain analyze $result_4ei_query_str\""
   ]
  },
  {
   "cell_type": "code",
   "execution_count": 91,
   "metadata": {},
   "outputs": [],
   "source": [
    "result_4eii_with_index_cost = 1795.83\n",
    "result_4eii_with_index_timing = 17.750"
   ]
  },
  {
   "cell_type": "code",
   "execution_count": 92,
   "metadata": {
    "deletable": false,
    "editable": false
   },
   "outputs": [
    {
     "data": {
      "text/html": [
       "\n",
       "    <p><strong>q4eii</strong> passed!</p>\n",
       "    "
      ],
      "text/plain": [
       "q4eii passed!"
      ]
     },
     "execution_count": 92,
     "metadata": {},
     "output_type": "execute_result"
    }
   ],
   "source": [
    "grader.check(\"q4eii\")"
   ]
  },
  {
   "cell_type": "markdown",
   "metadata": {},
   "source": [
    "In the following question, we will further explore the impact of indexes on query performance. To avoid any interference from the index on the `g_batting` column, drop the index before moving onto the next question."
   ]
  },
  {
   "cell_type": "code",
   "execution_count": 93,
   "metadata": {},
   "outputs": [
    {
     "name": "stdout",
     "output_type": "stream",
     "text": [
      " * postgresql://jovyan@127.0.0.1:5432/baseball\n",
      "   postgresql://jovyan@127.0.0.1:5432/postgres\n",
      "Done.\n"
     ]
    },
    {
     "data": {
      "text/plain": [
       "[]"
      ]
     },
     "execution_count": 93,
     "metadata": {},
     "output_type": "execute_result"
    }
   ],
   "source": [
    "%%sql \n",
    "Drop INDEX g_batting_idx;"
   ]
  },
  {
   "cell_type": "markdown",
   "metadata": {},
   "source": [
    "#### Question 4eiii:\n",
    "Write a query that finds the `playerid`, `yearid`, and `salary` for each player that had played 10 games __or__ batted in 10 games. Your query should join the `salaries` and `appearances` table on `yearid`, `teamid`, and `playerid`."
   ]
  },
  {
   "cell_type": "code",
   "execution_count": 94,
   "metadata": {},
   "outputs": [
    {
     "name": "stdout",
     "output_type": "stream",
     "text": [
      " * postgresql://jovyan@127.0.0.1:5432/baseball\n",
      "   postgresql://jovyan@127.0.0.1:5432/postgres\n",
      "216 rows affected.\n",
      "Returning data to local variable result_4eiii\n"
     ]
    }
   ],
   "source": [
    "%%sql result_4eiii <<\n",
    "Select S.playerid, S.yearid, salary\n",
    "From salaries AS S, appearances AS A\n",
    "Where (g_batting = 10 Or g_all = 10)\n",
    "And S.playerid = A.playerid\n",
    "And S.yearid = A.yearid\n",
    "And S.teamid = A.teamid;"
   ]
  },
  {
   "cell_type": "code",
   "execution_count": 95,
   "metadata": {},
   "outputs": [],
   "source": [
    "# Do not delete/edit this cell\n",
    "result_4eiii.DataFrame().sort_values(['playerid', 'yearid']).to_csv('results/result_4eiii.csv', index=False)"
   ]
  },
  {
   "cell_type": "code",
   "execution_count": 96,
   "metadata": {
    "deletable": false,
    "editable": false
   },
   "outputs": [
    {
     "data": {
      "text/html": [
       "\n",
       "    <p><strong>q4eiii_part1</strong> passed!</p>\n",
       "    "
      ],
      "text/plain": [
       "q4eiii_part1 passed!"
      ]
     },
     "execution_count": 96,
     "metadata": {},
     "output_type": "execute_result"
    }
   ],
   "source": [
    "grader.check(\"q4eiii_part1\")"
   ]
  },
  {
   "cell_type": "code",
   "execution_count": 97,
   "metadata": {},
   "outputs": [
    {
     "name": "stdout",
     "output_type": "stream",
     "text": [
      "                                                          QUERY PLAN                                                          \r\n",
      "------------------------------------------------------------------------------------------------------------------------------\r\n",
      " Hash Join  (cost=3184.87..3852.27 rows=2 width=21) (actual time=18.915..25.838 rows=216 loops=1)\r\n",
      "   Hash Cond: (((s.playerid)::text = (a.playerid)::text) AND (s.yearid = a.yearid) AND ((s.teamid)::text = (a.teamid)::text))\r\n",
      "   ->  Seq Scan on salaries s  (cost=0.00..459.28 rows=26428 width=25) (actual time=0.025..2.431 rows=26428 loops=1)\r\n",
      "   ->  Hash  (cost=3133.84..3133.84 rows=2916 width=17) (actual time=18.636..18.639 rows=1655 loops=1)\r\n",
      "         Buckets: 4096  Batches: 1  Memory Usage: 116kB\r\n",
      "         ->  Seq Scan on appearances a  (cost=0.00..3133.84 rows=2916 width=17) (actual time=0.031..17.929 rows=1655 loops=1)\r\n",
      "               Filter: ((g_batting = 10) OR (g_all = 10))\r\n",
      "               Rows Removed by Filter: 102601\r\n",
      " Planning Time: 2.362 ms\r\n",
      " Execution Time: 25.928 ms\r\n",
      "(10 rows)\r\n",
      "\r\n"
     ]
    }
   ],
   "source": [
    "result_4eiii_query_str = \"Select S.playerid, S.yearid, salary From salaries AS S, appearances AS A Where (g_batting = 10 Or g_all = 10) And S.playerid = A.playerid And S.yearid = A.yearid And S.teamid = A.teamid\"\n",
    "!psql -h localhost -d baseball -c \"explain analyze $result_4eiii_query_str\""
   ]
  },
  {
   "cell_type": "code",
   "execution_count": 98,
   "metadata": {},
   "outputs": [],
   "source": [
    "result_4eiii_cost = 3852.69\n",
    "result_4eiii_timing = 67.747"
   ]
  },
  {
   "cell_type": "code",
   "execution_count": 99,
   "metadata": {
    "deletable": false,
    "editable": false
   },
   "outputs": [
    {
     "data": {
      "text/html": [
       "\n",
       "    <p><strong>q4eiii_part2</strong> passed!</p>\n",
       "    "
      ],
      "text/plain": [
       "q4eiii_part2 passed!"
      ]
     },
     "execution_count": 99,
     "metadata": {},
     "output_type": "execute_result"
    }
   ],
   "source": [
    "grader.check(\"q4eiii_part2\")"
   ]
  },
  {
   "cell_type": "markdown",
   "metadata": {},
   "source": [
    "#### Question 4eiv\n",
    "Now, let's see the impact of adding an index on `g_batting` column will have on the query. Re-create the index and re-inspect the query from `Question 4eiii` and record the execution time and cost."
   ]
  },
  {
   "cell_type": "code",
   "execution_count": 100,
   "metadata": {
    "scrolled": true
   },
   "outputs": [
    {
     "name": "stdout",
     "output_type": "stream",
     "text": [
      " * postgresql://jovyan@127.0.0.1:5432/baseball\n",
      "   postgresql://jovyan@127.0.0.1:5432/postgres\n",
      "Done.\n",
      "Returning data to local variable result_4eiv\n"
     ]
    }
   ],
   "source": [
    "%%sql result_4eiv << \n",
    "Create INDEX g_batting_idx\n",
    "On appearances(g_batting);"
   ]
  },
  {
   "cell_type": "code",
   "execution_count": 101,
   "metadata": {},
   "outputs": [
    {
     "name": "stdout",
     "output_type": "stream",
     "text": [
      "                                                          QUERY PLAN                                                          \r\n",
      "------------------------------------------------------------------------------------------------------------------------------\r\n",
      " Hash Join  (cost=3184.87..3852.27 rows=2 width=21) (actual time=17.306..23.950 rows=216 loops=1)\r\n",
      "   Hash Cond: (((s.playerid)::text = (a.playerid)::text) AND (s.yearid = a.yearid) AND ((s.teamid)::text = (a.teamid)::text))\r\n",
      "   ->  Seq Scan on salaries s  (cost=0.00..459.28 rows=26428 width=25) (actual time=0.017..2.285 rows=26428 loops=1)\r\n",
      "   ->  Hash  (cost=3133.84..3133.84 rows=2916 width=17) (actual time=17.097..17.099 rows=1655 loops=1)\r\n",
      "         Buckets: 4096  Batches: 1  Memory Usage: 116kB\r\n",
      "         ->  Seq Scan on appearances a  (cost=0.00..3133.84 rows=2916 width=17) (actual time=0.021..16.603 rows=1655 loops=1)\r\n",
      "               Filter: ((g_batting = 10) OR (g_all = 10))\r\n",
      "               Rows Removed by Filter: 102601\r\n",
      " Planning Time: 1.637 ms\r\n",
      " Execution Time: 24.024 ms\r\n",
      "(10 rows)\r\n",
      "\r\n"
     ]
    }
   ],
   "source": [
    "!psql -h localhost -d baseball -c \"explain analyze $result_4eiii_query_str\""
   ]
  },
  {
   "cell_type": "code",
   "execution_count": 102,
   "metadata": {},
   "outputs": [],
   "source": [
    "result_4eiv_with_index_cost = 3852.69\n",
    "result_4eiv_with_index_timing = 56.110"
   ]
  },
  {
   "cell_type": "code",
   "execution_count": 103,
   "metadata": {
    "deletable": false,
    "editable": false
   },
   "outputs": [
    {
     "data": {
      "text/html": [
       "\n",
       "    <p><strong>q4eiv</strong> passed!</p>\n",
       "    "
      ],
      "text/plain": [
       "q4eiv passed!"
      ]
     },
     "execution_count": 103,
     "metadata": {},
     "output_type": "execute_result"
    }
   ],
   "source": [
    "grader.check(\"q4eiv\")"
   ]
  },
  {
   "cell_type": "markdown",
   "metadata": {},
   "source": [
    "In the following question, we will further explore the impact of indexes on query performance. To avoid any interference from the index on the `g_batting` column, drop the index before moving onto the next question."
   ]
  },
  {
   "cell_type": "code",
   "execution_count": 104,
   "metadata": {},
   "outputs": [
    {
     "name": "stdout",
     "output_type": "stream",
     "text": [
      " * postgresql://jovyan@127.0.0.1:5432/baseball\n",
      "   postgresql://jovyan@127.0.0.1:5432/postgres\n",
      "Done.\n"
     ]
    },
    {
     "data": {
      "text/plain": [
       "[]"
      ]
     },
     "execution_count": 104,
     "metadata": {},
     "output_type": "execute_result"
    }
   ],
   "source": [
    "%%sql \n",
    "Drop INDEX g_batting_idx;"
   ]
  },
  {
   "cell_type": "markdown",
   "metadata": {},
   "source": [
    "#### Question 4ev:\n",
    "Now, create a multiple column index on `g_batting` and `g_all` called `g_batting_g_all_idx` and record the query execution time and cost."
   ]
  },
  {
   "cell_type": "code",
   "execution_count": 105,
   "metadata": {},
   "outputs": [
    {
     "name": "stdout",
     "output_type": "stream",
     "text": [
      " * postgresql://jovyan@127.0.0.1:5432/baseball\n",
      "   postgresql://jovyan@127.0.0.1:5432/postgres\n",
      "Done.\n",
      "Returning data to local variable result_4v\n"
     ]
    }
   ],
   "source": [
    "%%sql result_4v <<\n",
    "Create INDEX g_batting_g_all_idx\n",
    "On appearances(g_batting, g_all);"
   ]
  },
  {
   "cell_type": "code",
   "execution_count": 106,
   "metadata": {},
   "outputs": [
    {
     "name": "stdout",
     "output_type": "stream",
     "text": [
      "                                                                      QUERY PLAN                                                                       \r\n",
      "-------------------------------------------------------------------------------------------------------------------------------------------------------\r\n",
      " Hash Join  (cost=2871.19..3538.59 rows=2 width=21) (actual time=5.086..13.186 rows=216 loops=1)\r\n",
      "   Hash Cond: (((s.playerid)::text = (a.playerid)::text) AND (s.yearid = a.yearid) AND ((s.teamid)::text = (a.teamid)::text))\r\n",
      "   ->  Seq Scan on salaries s  (cost=0.00..459.28 rows=26428 width=25) (actual time=0.019..2.761 rows=26428 loops=1)\r\n",
      "   ->  Hash  (cost=2820.16..2820.16 rows=2916 width=17) (actual time=4.868..4.871 rows=1655 loops=1)\r\n",
      "         Buckets: 4096  Batches: 1  Memory Usage: 116kB\r\n",
      "         ->  Bitmap Heap Scan on appearances a  (cost=1182.05..2820.16 rows=2916 width=17) (actual time=1.332..4.403 rows=1655 loops=1)\r\n",
      "               Recheck Cond: ((g_batting = 10) OR (g_all = 10))\r\n",
      "               Heap Blocks: exact=1027\r\n",
      "               ->  BitmapOr  (cost=1182.05..1182.05 rows=2937 width=0) (actual time=1.196..1.198 rows=0 loops=1)\r\n",
      "                     ->  Bitmap Index Scan on g_batting_g_all_idx  (cost=0.00..18.38 rows=1345 width=0) (actual time=0.192..0.192 rows=1347 loops=1)\r\n",
      "                           Index Cond: (g_batting = 10)\r\n",
      "                     ->  Bitmap Index Scan on g_batting_g_all_idx  (cost=0.00..1162.21 rows=1592 width=0) (actual time=1.003..1.004 rows=1597 loops=1)\r\n",
      "                           Index Cond: (g_all = 10)\r\n",
      " Planning Time: 1.618 ms\r\n",
      " Execution Time: 13.305 ms\r\n",
      "(15 rows)\r\n",
      "\r\n"
     ]
    }
   ],
   "source": [
    "!psql -h localhost -d baseball -c \"explain analyze $result_4eiii_query_str\""
   ]
  },
  {
   "cell_type": "code",
   "execution_count": 107,
   "metadata": {},
   "outputs": [],
   "source": [
    "result_4ev_multiple_col_index_cost = 3536.96\n",
    "result_4ev_multiple_col_index_timing = 21.025"
   ]
  },
  {
   "cell_type": "code",
   "execution_count": 108,
   "metadata": {
    "deletable": false,
    "editable": false
   },
   "outputs": [
    {
     "data": {
      "text/html": [
       "\n",
       "    <p><strong>q4ev</strong> passed!</p>\n",
       "    "
      ],
      "text/plain": [
       "q4ev passed!"
      ]
     },
     "execution_count": 108,
     "metadata": {},
     "output_type": "execute_result"
    }
   ],
   "source": [
    "grader.check(\"q4ev\")"
   ]
  },
  {
   "cell_type": "markdown",
   "metadata": {
    "deletable": false,
    "editable": false
   },
   "source": [
    "#### Question 4evi:\n",
    "Given your findings from inspecting the query plans from `Question 4e`, answer the following question. Assign the variable `q4e_part6` to a list of all statements that are true.\n",
    "\n",
    "1. Consider the following statements:\n",
    "    1. Adding an index on a column used in an AND predicate will reduce the query time, but not the execution cost.\n",
    "    1. Adding an index on a column used in an AND predicate will reduce the query cost, but not the execution time.\n",
    "    1. Adding an index on a column used in an AND predicate will reduce the query cost and the execution time.\n",
    "    1. Adding an index on a column used in an OR predicate will reduce the query time, but not the execution cost.\n",
    "    1. Adding an index on a column used in an OR predicate will reduce the query cost, but not the execution time.\n",
    "    1. Adding an index on a column used in an OR predicate will reduce the query cost and the execution time.\n",
    "    1. Adding a mutlicolumn index on columns in an OR predicate will reduce the query time, but not the execution cost.\n",
    "    1. Adding a mutlicolumn index on columns in an OR predicate will reduce the query cost, but not the execution time.\n",
    "    1. Adding a mutlicolumn index on columns in an OR predicate will reduce the query cost and the execution time.\n",
    "\n",
    "**Note:** Your answer should be formatted as follows: `q4e_part6 = ['A', 'B']`\n",
    "\n",
    "<!--\n",
    "BEGIN QUESTION\n",
    "name: q4evi\n",
    "points: 2\n",
    "-->"
   ]
  },
  {
   "cell_type": "code",
   "execution_count": 109,
   "metadata": {},
   "outputs": [],
   "source": [
    "q4e_part6 = ['C', 'I']"
   ]
  },
  {
   "cell_type": "code",
   "execution_count": 110,
   "metadata": {
    "deletable": false,
    "editable": false
   },
   "outputs": [
    {
     "data": {
      "text/html": [
       "\n",
       "    <p><strong>q4evi</strong> passed!</p>\n",
       "    "
      ],
      "text/plain": [
       "q4evi passed!"
      ]
     },
     "execution_count": 110,
     "metadata": {},
     "output_type": "execute_result"
    }
   ],
   "source": [
    "grader.check(\"q4evi\")"
   ]
  },
  {
   "cell_type": "markdown",
   "metadata": {
    "deletable": false,
    "editable": false
   },
   "source": [
    "<!-- BEGIN QUESTION -->\n",
    "\n",
    "#### Question 4evii\n",
    "\n",
    "Explain your answer to the previous part based on your inspection of the query plans (your explanation should include why you didn't choose certain options).\n",
    "\n",
    "<!--\n",
    "BEGIN QUESTION\n",
    "name: q4evii\n",
    "manual: true\n",
    "points: 2\n",
    "-->"
   ]
  },
  {
   "cell_type": "markdown",
   "metadata": {},
   "source": [
    "These answers are based on my previous numbers. The results are still the same.\n",
    "* With the and statement predicate, we have result_4ei_cost = 3337.03 and result_4ei_timing = 49.337.\n",
    "* Adding an index with an and predicate results in result_4eii_with_index_cost = 1852.94 and result_4eii_with_index_timing = 12.558.\n",
    "* With the or statement predicate, we have result_4eiii_cost = 3857.36 and result_4eiii_timing = 46.552.\n",
    "* Adding an index with an or predicate results in result_4eiv_with_index_cost = 3857.36 and result_4eiv_with_index_timing = 54.965.\n",
    "* Adding a multicolumn index results in result_4ev_multiple_col_index_cost = 3525.21 and result_4ev_multiple_col_index_timing = 22.607.\n",
    "* We see that adding an index when using the and predicate lowers both the cost and the time, so option C is correct, making A and B incorrect. This makes sense since we're directly using the g_batting column in our query; there is an index scan on g_batting_idx.\n",
    "* We see that adding an index when using the or predicate increases both the cost and the time, so none of D through F are correct. We see that adding a multicolumn index when using the or statement lowers both the cost and the time, so option I is correct, leaving G and H incorrect. This makes sense from the index scans shown in the query plan and because we're dealing with both g_batting and g_all (the keys we're indexing on) in our query."
   ]
  },
  {
   "cell_type": "markdown",
   "metadata": {},
   "source": [
    "<!-- END QUESTION -->\n",
    "\n",
    "\n",
    "\n",
    "### Question 5:\n",
    "#### Question 5a:\n",
    "Write 2 queries: one that finds the minimum salary from the salary table and one that finds the average. Inspect the queries' query plans and record their execution times and costs."
   ]
  },
  {
   "cell_type": "code",
   "execution_count": 111,
   "metadata": {},
   "outputs": [
    {
     "name": "stdout",
     "output_type": "stream",
     "text": [
      " * postgresql://jovyan@127.0.0.1:5432/baseball\n",
      "   postgresql://jovyan@127.0.0.1:5432/postgres\n",
      "1 rows affected.\n",
      "Returning data to local variable result_5a_min\n"
     ]
    }
   ],
   "source": [
    "%%sql result_5a_min << \n",
    "Select MIN(salary)\n",
    "From salaries;"
   ]
  },
  {
   "cell_type": "code",
   "execution_count": 112,
   "metadata": {},
   "outputs": [
    {
     "name": "stdout",
     "output_type": "stream",
     "text": [
      "                                                    QUERY PLAN                                                    \r\n",
      "------------------------------------------------------------------------------------------------------------------\r\n",
      " Aggregate  (cost=525.35..525.36 rows=1 width=8) (actual time=4.990..4.991 rows=1 loops=1)\r\n",
      "   ->  Seq Scan on salaries  (cost=0.00..459.28 rows=26428 width=8) (actual time=0.015..2.403 rows=26428 loops=1)\r\n",
      " Planning Time: 0.529 ms\r\n",
      " Execution Time: 5.075 ms\r\n",
      "(4 rows)\r\n",
      "\r\n"
     ]
    }
   ],
   "source": [
    "result_5a_min_query_str = \"Select MIN(salary) From salaries\"\n",
    "!psql -h localhost -d baseball -c \"explain analyze $result_5a_min_query_str\""
   ]
  },
  {
   "cell_type": "code",
   "execution_count": 113,
   "metadata": {},
   "outputs": [],
   "source": [
    "result_5a_min_query_cost = 525.36\n",
    "result_5a_min_query_timing = 6.256"
   ]
  },
  {
   "cell_type": "code",
   "execution_count": 114,
   "metadata": {
    "deletable": false,
    "editable": false
   },
   "outputs": [
    {
     "data": {
      "text/html": [
       "\n",
       "    <p><strong>q5ai</strong> passed!</p>\n",
       "    "
      ],
      "text/plain": [
       "q5ai passed!"
      ]
     },
     "execution_count": 114,
     "metadata": {},
     "output_type": "execute_result"
    }
   ],
   "source": [
    "grader.check(\"q5ai\")"
   ]
  },
  {
   "cell_type": "code",
   "execution_count": 115,
   "metadata": {},
   "outputs": [
    {
     "name": "stdout",
     "output_type": "stream",
     "text": [
      " * postgresql://jovyan@127.0.0.1:5432/baseball\n",
      "   postgresql://jovyan@127.0.0.1:5432/postgres\n",
      "1 rows affected.\n",
      "Returning data to local variable result_5a_avg\n"
     ]
    }
   ],
   "source": [
    "%%sql result_5a_avg <<\n",
    "Select AVG(salary)\n",
    "From salaries;"
   ]
  },
  {
   "cell_type": "code",
   "execution_count": 116,
   "metadata": {},
   "outputs": [
    {
     "name": "stdout",
     "output_type": "stream",
     "text": [
      "                                                    QUERY PLAN                                                    \r\n",
      "------------------------------------------------------------------------------------------------------------------\r\n",
      " Aggregate  (cost=525.35..525.36 rows=1 width=8) (actual time=5.536..5.537 rows=1 loops=1)\r\n",
      "   ->  Seq Scan on salaries  (cost=0.00..459.28 rows=26428 width=8) (actual time=0.015..2.310 rows=26428 loops=1)\r\n",
      " Planning Time: 0.334 ms\r\n",
      " Execution Time: 5.648 ms\r\n",
      "(4 rows)\r\n",
      "\r\n"
     ]
    }
   ],
   "source": [
    "result_5a_avg_query_str = \"Select AVG(salary) From salaries\"\n",
    "!psql -h localhost -d baseball -c \"explain analyze $result_5a_avg_query_str\""
   ]
  },
  {
   "cell_type": "code",
   "execution_count": 117,
   "metadata": {},
   "outputs": [],
   "source": [
    "result_5a_avg_query_cost = 525.36\n",
    "result_5a_avg_query_timing = 9.090"
   ]
  },
  {
   "cell_type": "code",
   "execution_count": 118,
   "metadata": {
    "deletable": false,
    "editable": false
   },
   "outputs": [
    {
     "data": {
      "text/html": [
       "\n",
       "    <p><strong>q5aii</strong> passed!</p>\n",
       "    "
      ],
      "text/plain": [
       "q5aii passed!"
      ]
     },
     "execution_count": 118,
     "metadata": {},
     "output_type": "execute_result"
    }
   ],
   "source": [
    "grader.check(\"q5aii\")"
   ]
  },
  {
   "cell_type": "markdown",
   "metadata": {},
   "source": [
    "#### Question 5b:\n",
    "Create an index on the `salary` column in the `salaries` table and re-inspect the query plans from the previous part and record the respective execution time and cost."
   ]
  },
  {
   "cell_type": "code",
   "execution_count": 119,
   "metadata": {},
   "outputs": [
    {
     "name": "stdout",
     "output_type": "stream",
     "text": [
      " * postgresql://jovyan@127.0.0.1:5432/baseball\n",
      "   postgresql://jovyan@127.0.0.1:5432/postgres\n",
      "Done.\n"
     ]
    },
    {
     "data": {
      "text/plain": [
       "[]"
      ]
     },
     "execution_count": 119,
     "metadata": {},
     "output_type": "execute_result"
    }
   ],
   "source": [
    "%%sql \n",
    "Create INDEX salary_idx\n",
    "On salaries(salary);"
   ]
  },
  {
   "cell_type": "code",
   "execution_count": 120,
   "metadata": {},
   "outputs": [
    {
     "name": "stdout",
     "output_type": "stream",
     "text": [
      "                                                                  QUERY PLAN                                                                  \r\n",
      "----------------------------------------------------------------------------------------------------------------------------------------------\r\n",
      " Result  (cost=0.32..0.33 rows=1 width=8) (actual time=0.069..0.070 rows=1 loops=1)\r\n",
      "   InitPlan 1 (returns $0)\r\n",
      "     ->  Limit  (cost=0.29..0.32 rows=1 width=8) (actual time=0.065..0.066 rows=1 loops=1)\r\n",
      "           ->  Index Only Scan using salary_idx on salaries  (cost=0.29..762.78 rows=26428 width=8) (actual time=0.063..0.063 rows=1 loops=1)\r\n",
      "                 Index Cond: (salary IS NOT NULL)\r\n",
      "                 Heap Fetches: 0\r\n",
      " Planning Time: 0.623 ms\r\n",
      " Execution Time: 0.133 ms\r\n",
      "(8 rows)\r\n",
      "\r\n"
     ]
    }
   ],
   "source": [
    "!psql -h localhost -d baseball -c \"explain analyze $result_5a_min_query_str\""
   ]
  },
  {
   "cell_type": "code",
   "execution_count": 121,
   "metadata": {},
   "outputs": [],
   "source": [
    "result_5b_min_query_cost = 0.33\n",
    "result_5b_min_query_timing = 0.251"
   ]
  },
  {
   "cell_type": "code",
   "execution_count": 122,
   "metadata": {
    "deletable": false,
    "editable": false
   },
   "outputs": [
    {
     "data": {
      "text/html": [
       "\n",
       "    <p><strong>q5bi</strong> passed!</p>\n",
       "    "
      ],
      "text/plain": [
       "q5bi passed!"
      ]
     },
     "execution_count": 122,
     "metadata": {},
     "output_type": "execute_result"
    }
   ],
   "source": [
    "grader.check(\"q5bi\")"
   ]
  },
  {
   "cell_type": "code",
   "execution_count": 123,
   "metadata": {},
   "outputs": [
    {
     "name": "stdout",
     "output_type": "stream",
     "text": [
      "                                                    QUERY PLAN                                                    \r\n",
      "------------------------------------------------------------------------------------------------------------------\r\n",
      " Aggregate  (cost=525.35..525.36 rows=1 width=8) (actual time=5.380..5.381 rows=1 loops=1)\r\n",
      "   ->  Seq Scan on salaries  (cost=0.00..459.28 rows=26428 width=8) (actual time=0.015..2.256 rows=26428 loops=1)\r\n",
      " Planning Time: 0.484 ms\r\n",
      " Execution Time: 5.472 ms\r\n",
      "(4 rows)\r\n",
      "\r\n"
     ]
    }
   ],
   "source": [
    "!psql -h localhost -d baseball -c \"explain analyze $result_5a_avg_query_str\""
   ]
  },
  {
   "cell_type": "code",
   "execution_count": 124,
   "metadata": {},
   "outputs": [],
   "source": [
    "result_5b_avg_query_cost = 525.36\n",
    "result_5b_avg_query_timing = 6.682"
   ]
  },
  {
   "cell_type": "code",
   "execution_count": 125,
   "metadata": {
    "deletable": false,
    "editable": false
   },
   "outputs": [
    {
     "data": {
      "text/html": [
       "\n",
       "    <p><strong>q5bii</strong> passed!</p>\n",
       "    "
      ],
      "text/plain": [
       "q5bii passed!"
      ]
     },
     "execution_count": 125,
     "metadata": {},
     "output_type": "execute_result"
    }
   ],
   "source": [
    "grader.check(\"q5bii\")"
   ]
  },
  {
   "cell_type": "markdown",
   "metadata": {},
   "source": [
    "In the following questions, we will further explore the impact of indexes on query performance. To avoid any interference from the index on the `salary` column, drop the index before moving onto the next question."
   ]
  },
  {
   "cell_type": "code",
   "execution_count": 126,
   "metadata": {},
   "outputs": [
    {
     "name": "stdout",
     "output_type": "stream",
     "text": [
      " * postgresql://jovyan@127.0.0.1:5432/baseball\n",
      "   postgresql://jovyan@127.0.0.1:5432/postgres\n",
      "Done.\n"
     ]
    },
    {
     "data": {
      "text/plain": [
       "[]"
      ]
     },
     "execution_count": 126,
     "metadata": {},
     "output_type": "execute_result"
    }
   ],
   "source": [
    "%%sql \n",
    "Drop INDEX salary_idx;"
   ]
  },
  {
   "cell_type": "markdown",
   "metadata": {
    "deletable": false,
    "editable": false
   },
   "source": [
    "#### Question 5c:\n",
    "Given your findings from `Question 5a-b`, answer the following question. Assign the variable `q5c` to the correct answer choice.\n",
    "\n",
    "1. Which of the following statements is true?\n",
    "    1. An index on the column being aggregated in a query will always provide a performance enhancement.\n",
    "    1. A query finding the MIN(salary) will always benefit from an index on salary, but a query finding MAX(salary) will not.\n",
    "    1. A query finding the COUNT(salary) will always benefit from an index on salary, but a query finding AVG(salary) will not.\n",
    "    1. Queries finding the MIN(salary) or MAX(salary) will always benefit from an index on salary, but queries finding AVG(salary) or COUNT(salary) will not.\n",
    "\n",
    "*Note:* Your answer should be formatted as follows: `q5c = ['A', 'B']`\n",
    "\n",
    "<!--\n",
    "BEGIN QUESTION\n",
    "name: q5c\n",
    "points: 1\n",
    "-->"
   ]
  },
  {
   "cell_type": "code",
   "execution_count": 127,
   "metadata": {},
   "outputs": [],
   "source": [
    "q5c = ['D']"
   ]
  },
  {
   "cell_type": "code",
   "execution_count": 128,
   "metadata": {
    "deletable": false,
    "editable": false
   },
   "outputs": [
    {
     "data": {
      "text/html": [
       "\n",
       "    <p><strong>q5c</strong> passed!</p>\n",
       "    "
      ],
      "text/plain": [
       "q5c passed!"
      ]
     },
     "execution_count": 128,
     "metadata": {},
     "output_type": "execute_result"
    }
   ],
   "source": [
    "grader.check(\"q5c\")"
   ]
  },
  {
   "cell_type": "markdown",
   "metadata": {
    "deletable": false,
    "editable": false
   },
   "source": [
    "<!-- BEGIN QUESTION -->\n",
    "\n",
    "#### Question 5d:\n",
    "\n",
    "Explain your answer to the previous part based on your inspection of the query plans.\n",
    "\n",
    "<!--\n",
    "BEGIN QUESTION\n",
    "name: q5d\n",
    "manual: true\n",
    "points: 2\n",
    "-->"
   ]
  },
  {
   "cell_type": "markdown",
   "metadata": {},
   "source": [
    "These answers are based on my previous values. The results are still the same.\n",
    "* If we compare the results from the query plans for 5aii (the avg) to 5bii, we see that the query cost is the same, while the execution time isn't always faster when an index is used. Because of this, we can't say that an index on the column being aggregated will always provide a performance enhancement, so option A is incorrect.\n",
    "* Option B is incorrect because using an index to find the minimum salary value uses the same approach to find the maximum salary value, and so the positive effect of using an index exists for both aggregate functions.\n",
    "* Option C is incorrect because in order to find the count, we would need a sequential scan of all the data since we literally need to count the number of tuples in total, so it'd have the same outcome as using an AVG aggregation.\n",
    "* Option D is correct because of my reasons above."
   ]
  },
  {
   "cell_type": "code",
   "execution_count": 191,
   "metadata": {},
   "outputs": [
    {
     "name": "stdout",
     "output_type": "stream",
     "text": [
      " * postgresql://jovyan@127.0.0.1:5432/baseball\n",
      "   postgresql://jovyan@127.0.0.1:5432/postgres\n",
      "1 rows affected.\n"
     ]
    },
    {
     "data": {
      "text/html": [
       "<table>\n",
       "    <tr>\n",
       "        <th>playerid</th>\n",
       "        <th>yearid</th>\n",
       "        <th>stint</th>\n",
       "        <th>teamid</th>\n",
       "        <th>lgid</th>\n",
       "        <th>g</th>\n",
       "        <th>ab</th>\n",
       "        <th>r</th>\n",
       "        <th>h</th>\n",
       "        <th>h2b</th>\n",
       "        <th>h3b</th>\n",
       "        <th>hr</th>\n",
       "        <th>rbi</th>\n",
       "        <th>sb</th>\n",
       "        <th>cs</th>\n",
       "        <th>bb</th>\n",
       "        <th>so</th>\n",
       "        <th>ibb</th>\n",
       "        <th>hbp</th>\n",
       "        <th>sh</th>\n",
       "        <th>sf</th>\n",
       "        <th>gidp</th>\n",
       "    </tr>\n",
       "    <tr>\n",
       "        <td>aardsda01</td>\n",
       "        <td>2004</td>\n",
       "        <td>1</td>\n",
       "        <td>SFN</td>\n",
       "        <td>NL</td>\n",
       "        <td>11</td>\n",
       "        <td>0</td>\n",
       "        <td>0</td>\n",
       "        <td>0</td>\n",
       "        <td>0</td>\n",
       "        <td>0</td>\n",
       "        <td>0</td>\n",
       "        <td>0</td>\n",
       "        <td>0</td>\n",
       "        <td>0</td>\n",
       "        <td>0</td>\n",
       "        <td>0</td>\n",
       "        <td>0</td>\n",
       "        <td>0</td>\n",
       "        <td>0</td>\n",
       "        <td>0</td>\n",
       "        <td>0</td>\n",
       "    </tr>\n",
       "</table>"
      ],
      "text/plain": [
       "[('aardsda01', 2004, 1, 'SFN', 'NL', 11, 0, 0, 0, 0, 0, 0, 0, 0, 0, 0, 0, 0, 0, 0, 0, 0)]"
      ]
     },
     "execution_count": 191,
     "metadata": {},
     "output_type": "execute_result"
    }
   ],
   "source": [
    "%%sql\n",
    "Select *\n",
    "From batting\n",
    "Limit 1;"
   ]
  },
  {
   "cell_type": "markdown",
   "metadata": {},
   "source": [
    "<!-- END QUESTION -->\n",
    "\n",
    "\n",
    "\n",
    "### Question 6\n",
    "In this question, we will inspect the impact of that clustering our data on an index can have on a query's performance.\n",
    "\n",
    "#### Question 6a\n",
    "Write a query that finds the `playerid`, `yearid`, `teamid`, and `ab` for all players whose `ab` was above 500. Inspect the query plan and record the execution time and cost."
   ]
  },
  {
   "cell_type": "code",
   "execution_count": 129,
   "metadata": {},
   "outputs": [
    {
     "name": "stdout",
     "output_type": "stream",
     "text": [
      " * postgresql://jovyan@127.0.0.1:5432/baseball\n",
      "   postgresql://jovyan@127.0.0.1:5432/postgres\n",
      "8839 rows affected.\n",
      "Returning data to local variable result_6a\n"
     ]
    }
   ],
   "source": [
    "%%sql result_6a <<\n",
    "Select playerid, yearid, teamid, ab\n",
    "From batting\n",
    "Where ab > 500;"
   ]
  },
  {
   "cell_type": "code",
   "execution_count": 130,
   "metadata": {},
   "outputs": [],
   "source": [
    "# Do not delete/edit this cell\n",
    "result_6a.DataFrame().sort_values(['playerid', 'yearid', 'teamid']).iloc[:1000].to_csv('results/result_6a.csv', index=False)"
   ]
  },
  {
   "cell_type": "code",
   "execution_count": 131,
   "metadata": {
    "deletable": false,
    "editable": false
   },
   "outputs": [
    {
     "data": {
      "text/html": [
       "\n",
       "    <p><strong>q6ai</strong> passed!</p>\n",
       "    "
      ],
      "text/plain": [
       "q6ai passed!"
      ]
     },
     "execution_count": 131,
     "metadata": {},
     "output_type": "execute_result"
    }
   ],
   "source": [
    "grader.check(\"q6ai\")"
   ]
  },
  {
   "cell_type": "code",
   "execution_count": 132,
   "metadata": {},
   "outputs": [
    {
     "name": "stdout",
     "output_type": "stream",
     "text": [
      "                                                 QUERY PLAN                                                 \r\n",
      "------------------------------------------------------------------------------------------------------------\r\n",
      " Seq Scan on batting  (cost=0.00..2884.05 rows=9121 width=21) (actual time=0.350..14.939 rows=8839 loops=1)\r\n",
      "   Filter: (ab > 500)\r\n",
      "   Rows Removed by Filter: 95485\r\n",
      " Planning Time: 0.385 ms\r\n",
      " Execution Time: 15.343 ms\r\n",
      "(5 rows)\r\n",
      "\r\n"
     ]
    }
   ],
   "source": [
    "result_6a_query_str = \"Select playerid, yearid, teamid, ab From batting Where ab > 500\"\n",
    "!psql -h localhost -d baseball -c \"explain analyze $result_6a_query_str\""
   ]
  },
  {
   "cell_type": "code",
   "execution_count": 133,
   "metadata": {},
   "outputs": [],
   "source": [
    "result_6a_cost = 2879.05\n",
    "result_6a_timing = 80.695"
   ]
  },
  {
   "cell_type": "code",
   "execution_count": 134,
   "metadata": {
    "deletable": false,
    "editable": false
   },
   "outputs": [
    {
     "data": {
      "text/html": [
       "\n",
       "    <p><strong>q6aii</strong> passed!</p>\n",
       "    "
      ],
      "text/plain": [
       "q6aii passed!"
      ]
     },
     "execution_count": 134,
     "metadata": {},
     "output_type": "execute_result"
    }
   ],
   "source": [
    "grader.check(\"q6aii\")"
   ]
  },
  {
   "cell_type": "markdown",
   "metadata": {},
   "source": [
    "#### Question 6b:\n",
    "Cluster the `batting` table on its primary key (hint: use `\\di` to find out what name of the primary key is). We are able to directly cluster on the primary key (without first creating a separate index) because Postgres automatically creates an index for it. Re-inspect the query plan for the query from `Question 6a` and record the execution time and cost."
   ]
  },
  {
   "cell_type": "code",
   "execution_count": 135,
   "metadata": {},
   "outputs": [
    {
     "name": "stdout",
     "output_type": "stream",
     "text": [
      " * postgresql://jovyan@127.0.0.1:5432/baseball\n",
      "   postgresql://jovyan@127.0.0.1:5432/postgres\n",
      "27 rows affected.\n"
     ]
    },
    {
     "data": {
      "text/html": [
       "<table>\n",
       "    <tr>\n",
       "        <th>Schema</th>\n",
       "        <th>Name</th>\n",
       "        <th>Type</th>\n",
       "        <th>Owner</th>\n",
       "    </tr>\n",
       "    <tr>\n",
       "        <td>public</td>\n",
       "        <td>allstarfull_pkey</td>\n",
       "        <td>index</td>\n",
       "        <td>jovyan</td>\n",
       "    </tr>\n",
       "    <tr>\n",
       "        <td>public</td>\n",
       "        <td>appearances_pkey</td>\n",
       "        <td>index</td>\n",
       "        <td>jovyan</td>\n",
       "    </tr>\n",
       "    <tr>\n",
       "        <td>public</td>\n",
       "        <td>awardsmanagers_pkey</td>\n",
       "        <td>index</td>\n",
       "        <td>jovyan</td>\n",
       "    </tr>\n",
       "    <tr>\n",
       "        <td>public</td>\n",
       "        <td>awardsplayers_pkey</td>\n",
       "        <td>index</td>\n",
       "        <td>jovyan</td>\n",
       "    </tr>\n",
       "    <tr>\n",
       "        <td>public</td>\n",
       "        <td>awardssharemanagers_pkey</td>\n",
       "        <td>index</td>\n",
       "        <td>jovyan</td>\n",
       "    </tr>\n",
       "    <tr>\n",
       "        <td>public</td>\n",
       "        <td>awardsshareplayers_pkey</td>\n",
       "        <td>index</td>\n",
       "        <td>jovyan</td>\n",
       "    </tr>\n",
       "    <tr>\n",
       "        <td>public</td>\n",
       "        <td>batting_pkey</td>\n",
       "        <td>index</td>\n",
       "        <td>jovyan</td>\n",
       "    </tr>\n",
       "    <tr>\n",
       "        <td>public</td>\n",
       "        <td>battingpost_pkey</td>\n",
       "        <td>index</td>\n",
       "        <td>jovyan</td>\n",
       "    </tr>\n",
       "    <tr>\n",
       "        <td>public</td>\n",
       "        <td>collegeplaying_pkey</td>\n",
       "        <td>index</td>\n",
       "        <td>jovyan</td>\n",
       "    </tr>\n",
       "    <tr>\n",
       "        <td>public</td>\n",
       "        <td>fielding_pkey</td>\n",
       "        <td>index</td>\n",
       "        <td>jovyan</td>\n",
       "    </tr>\n",
       "    <tr>\n",
       "        <td>public</td>\n",
       "        <td>fieldingof_pkey</td>\n",
       "        <td>index</td>\n",
       "        <td>jovyan</td>\n",
       "    </tr>\n",
       "    <tr>\n",
       "        <td>public</td>\n",
       "        <td>fieldingpost_pkey</td>\n",
       "        <td>index</td>\n",
       "        <td>jovyan</td>\n",
       "    </tr>\n",
       "    <tr>\n",
       "        <td>public</td>\n",
       "        <td>g_batting_g_all_idx</td>\n",
       "        <td>index</td>\n",
       "        <td>jovyan</td>\n",
       "    </tr>\n",
       "    <tr>\n",
       "        <td>public</td>\n",
       "        <td>halloffame_pkey</td>\n",
       "        <td>index</td>\n",
       "        <td>jovyan</td>\n",
       "    </tr>\n",
       "    <tr>\n",
       "        <td>public</td>\n",
       "        <td>homegames_pkey</td>\n",
       "        <td>index</td>\n",
       "        <td>jovyan</td>\n",
       "    </tr>\n",
       "    <tr>\n",
       "        <td>public</td>\n",
       "        <td>managers_pkey</td>\n",
       "        <td>index</td>\n",
       "        <td>jovyan</td>\n",
       "    </tr>\n",
       "    <tr>\n",
       "        <td>public</td>\n",
       "        <td>managershalf_pkey</td>\n",
       "        <td>index</td>\n",
       "        <td>jovyan</td>\n",
       "    </tr>\n",
       "    <tr>\n",
       "        <td>public</td>\n",
       "        <td>master_pkey</td>\n",
       "        <td>index</td>\n",
       "        <td>jovyan</td>\n",
       "    </tr>\n",
       "    <tr>\n",
       "        <td>public</td>\n",
       "        <td>parks_pkey</td>\n",
       "        <td>index</td>\n",
       "        <td>jovyan</td>\n",
       "    </tr>\n",
       "    <tr>\n",
       "        <td>public</td>\n",
       "        <td>pitching_pkey</td>\n",
       "        <td>index</td>\n",
       "        <td>jovyan</td>\n",
       "    </tr>\n",
       "    <tr>\n",
       "        <td>public</td>\n",
       "        <td>pitchingpost_pkey</td>\n",
       "        <td>index</td>\n",
       "        <td>jovyan</td>\n",
       "    </tr>\n",
       "    <tr>\n",
       "        <td>public</td>\n",
       "        <td>salaries_pkey</td>\n",
       "        <td>index</td>\n",
       "        <td>jovyan</td>\n",
       "    </tr>\n",
       "    <tr>\n",
       "        <td>public</td>\n",
       "        <td>schools_pkey</td>\n",
       "        <td>index</td>\n",
       "        <td>jovyan</td>\n",
       "    </tr>\n",
       "    <tr>\n",
       "        <td>public</td>\n",
       "        <td>seriespost_pkey</td>\n",
       "        <td>index</td>\n",
       "        <td>jovyan</td>\n",
       "    </tr>\n",
       "    <tr>\n",
       "        <td>public</td>\n",
       "        <td>teams_pkey</td>\n",
       "        <td>index</td>\n",
       "        <td>jovyan</td>\n",
       "    </tr>\n",
       "    <tr>\n",
       "        <td>public</td>\n",
       "        <td>teamsfranchises_pkey</td>\n",
       "        <td>index</td>\n",
       "        <td>jovyan</td>\n",
       "    </tr>\n",
       "    <tr>\n",
       "        <td>public</td>\n",
       "        <td>teamshalf_pkey</td>\n",
       "        <td>index</td>\n",
       "        <td>jovyan</td>\n",
       "    </tr>\n",
       "</table>"
      ],
      "text/plain": [
       "[('public', 'allstarfull_pkey', 'index', 'jovyan'),\n",
       " ('public', 'appearances_pkey', 'index', 'jovyan'),\n",
       " ('public', 'awardsmanagers_pkey', 'index', 'jovyan'),\n",
       " ('public', 'awardsplayers_pkey', 'index', 'jovyan'),\n",
       " ('public', 'awardssharemanagers_pkey', 'index', 'jovyan'),\n",
       " ('public', 'awardsshareplayers_pkey', 'index', 'jovyan'),\n",
       " ('public', 'batting_pkey', 'index', 'jovyan'),\n",
       " ('public', 'battingpost_pkey', 'index', 'jovyan'),\n",
       " ('public', 'collegeplaying_pkey', 'index', 'jovyan'),\n",
       " ('public', 'fielding_pkey', 'index', 'jovyan'),\n",
       " ('public', 'fieldingof_pkey', 'index', 'jovyan'),\n",
       " ('public', 'fieldingpost_pkey', 'index', 'jovyan'),\n",
       " ('public', 'g_batting_g_all_idx', 'index', 'jovyan'),\n",
       " ('public', 'halloffame_pkey', 'index', 'jovyan'),\n",
       " ('public', 'homegames_pkey', 'index', 'jovyan'),\n",
       " ('public', 'managers_pkey', 'index', 'jovyan'),\n",
       " ('public', 'managershalf_pkey', 'index', 'jovyan'),\n",
       " ('public', 'master_pkey', 'index', 'jovyan'),\n",
       " ('public', 'parks_pkey', 'index', 'jovyan'),\n",
       " ('public', 'pitching_pkey', 'index', 'jovyan'),\n",
       " ('public', 'pitchingpost_pkey', 'index', 'jovyan'),\n",
       " ('public', 'salaries_pkey', 'index', 'jovyan'),\n",
       " ('public', 'schools_pkey', 'index', 'jovyan'),\n",
       " ('public', 'seriespost_pkey', 'index', 'jovyan'),\n",
       " ('public', 'teams_pkey', 'index', 'jovyan'),\n",
       " ('public', 'teamsfranchises_pkey', 'index', 'jovyan'),\n",
       " ('public', 'teamshalf_pkey', 'index', 'jovyan')]"
      ]
     },
     "execution_count": 135,
     "metadata": {},
     "output_type": "execute_result"
    }
   ],
   "source": [
    "%sql \\di"
   ]
  },
  {
   "cell_type": "code",
   "execution_count": 136,
   "metadata": {},
   "outputs": [
    {
     "name": "stdout",
     "output_type": "stream",
     "text": [
      " * postgresql://jovyan@127.0.0.1:5432/baseball\n",
      "   postgresql://jovyan@127.0.0.1:5432/postgres\n",
      "Done.\n"
     ]
    },
    {
     "data": {
      "text/plain": [
       "[]"
      ]
     },
     "execution_count": 136,
     "metadata": {},
     "output_type": "execute_result"
    }
   ],
   "source": [
    "%%sql \n",
    "Cluster batting using batting_pkey;"
   ]
  },
  {
   "cell_type": "code",
   "execution_count": 137,
   "metadata": {},
   "outputs": [
    {
     "name": "stdout",
     "output_type": "stream",
     "text": [
      "                                                 QUERY PLAN                                                 \r\n",
      "------------------------------------------------------------------------------------------------------------\r\n",
      " Seq Scan on batting  (cost=0.00..2878.05 rows=9121 width=21) (actual time=0.062..18.244 rows=8839 loops=1)\r\n",
      "   Filter: (ab > 500)\r\n",
      "   Rows Removed by Filter: 95485\r\n",
      " Planning Time: 0.461 ms\r\n",
      " Execution Time: 18.643 ms\r\n",
      "(5 rows)\r\n",
      "\r\n"
     ]
    }
   ],
   "source": [
    "!psql -h localhost -d baseball -c \"explain analyze $result_6a_query_str\""
   ]
  },
  {
   "cell_type": "code",
   "execution_count": 138,
   "metadata": {},
   "outputs": [],
   "source": [
    "result_6b_cost = 2878.05\n",
    "result_6b_timing = 31.735"
   ]
  },
  {
   "cell_type": "code",
   "execution_count": 139,
   "metadata": {
    "deletable": false,
    "editable": false
   },
   "outputs": [
    {
     "data": {
      "text/html": [
       "\n",
       "    <p><strong>q6b</strong> passed!</p>\n",
       "    "
      ],
      "text/plain": [
       "q6b passed!"
      ]
     },
     "execution_count": 139,
     "metadata": {},
     "output_type": "execute_result"
    }
   ],
   "source": [
    "grader.check(\"q6b\")"
   ]
  },
  {
   "cell_type": "markdown",
   "metadata": {},
   "source": [
    "#### Question 6c\n",
    "Now, let's try clustering the table based on another index. Create an index on `ab` column called `ab_idx` in the `batting` table and cluster the `batting` table with this new index. Now, re-inspect the query plan and record the execution time and cost."
   ]
  },
  {
   "cell_type": "code",
   "execution_count": 140,
   "metadata": {},
   "outputs": [
    {
     "name": "stdout",
     "output_type": "stream",
     "text": [
      " * postgresql://jovyan@127.0.0.1:5432/baseball\n",
      "   postgresql://jovyan@127.0.0.1:5432/postgres\n",
      "Done.\n",
      "Done.\n"
     ]
    },
    {
     "data": {
      "text/plain": [
       "[]"
      ]
     },
     "execution_count": 140,
     "metadata": {},
     "output_type": "execute_result"
    }
   ],
   "source": [
    "%%sql \n",
    "Create INDEX ab_idx\n",
    "On batting(ab);\n",
    "\n",
    "Cluster batting using ab_idx;"
   ]
  },
  {
   "cell_type": "code",
   "execution_count": 141,
   "metadata": {},
   "outputs": [
    {
     "name": "stdout",
     "output_type": "stream",
     "text": [
      "                                                      QUERY PLAN                                                       \r\n",
      "-----------------------------------------------------------------------------------------------------------------------\r\n",
      " Bitmap Heap Scan on batting  (cost=106.98..1795.99 rows=9121 width=21) (actual time=0.387..2.492 rows=8839 loops=1)\r\n",
      "   Recheck Cond: (ab > 500)\r\n",
      "   Heap Blocks: exact=135\r\n",
      "   ->  Bitmap Index Scan on ab_idx  (cost=0.00..104.70 rows=9121 width=0) (actual time=0.331..0.332 rows=8839 loops=1)\r\n",
      "         Index Cond: (ab > 500)\r\n",
      " Planning Time: 0.769 ms\r\n",
      " Execution Time: 2.890 ms\r\n",
      "(7 rows)\r\n",
      "\r\n"
     ]
    }
   ],
   "source": [
    "!psql -h localhost -d baseball -c \"explain analyze $result_6a_query_str\""
   ]
  },
  {
   "cell_type": "code",
   "execution_count": 142,
   "metadata": {},
   "outputs": [],
   "source": [
    "result_6c_cost = 1781.75\n",
    "result_6c_timing = 5.008"
   ]
  },
  {
   "cell_type": "code",
   "execution_count": 143,
   "metadata": {
    "deletable": false,
    "editable": false
   },
   "outputs": [
    {
     "data": {
      "text/html": [
       "\n",
       "    <p><strong>q6c</strong> passed!</p>\n",
       "    "
      ],
      "text/plain": [
       "q6c passed!"
      ]
     },
     "execution_count": 143,
     "metadata": {},
     "output_type": "execute_result"
    }
   ],
   "source": [
    "grader.check(\"q6c\")"
   ]
  },
  {
   "cell_type": "code",
   "execution_count": 144,
   "metadata": {},
   "outputs": [
    {
     "name": "stdout",
     "output_type": "stream",
     "text": [
      " * postgresql://jovyan@127.0.0.1:5432/baseball\n",
      "   postgresql://jovyan@127.0.0.1:5432/postgres\n",
      "Done.\n"
     ]
    },
    {
     "data": {
      "text/plain": [
       "[]"
      ]
     },
     "execution_count": 144,
     "metadata": {},
     "output_type": "execute_result"
    }
   ],
   "source": [
    "%%sql\n",
    "Drop index ab_idx"
   ]
  },
  {
   "cell_type": "markdown",
   "metadata": {
    "deletable": false,
    "editable": false
   },
   "source": [
    "#### Question 6d\n",
    "Given your findings from inspecting the query plans from `Question 6a-c`, answer the following question. Assign the variable `q6d` to a list of all statements that are true.\n",
    "\n",
    "1. Consider the following statements:\n",
    "    1. Clustering based on the `ab_idx` decreased the cost of the query.\n",
    "    1. Clustering based on the `ab_idx` increased the cost of the query.\n",
    "    1. Clustering based on the `ab_idx` increased the execution time of the query.\n",
    "    1. Clustering based on the `ab_idx` decreased the execution time of the query.\n",
    "    1. Clustering based on the `batting_pkey` decreased the cost of the query.\n",
    "    1. Clustering based on the `batting_pkey` increased the cost of the query.\n",
    "    1. Clustering based on the `batting_pkey` increased the execution time of the query.\n",
    "    1. Clustering based on the `batting_pkey` decreased the execution time of the query.\n",
    "    1. None of the above\n",
    "    \n",
    "**Note:** Your answer should be formatted as follows: `q6d = ['A', 'B']`\n",
    "\n",
    "<!--\n",
    "BEGIN QUESTION\n",
    "name: q6d\n",
    "points: 2\n",
    "-->"
   ]
  },
  {
   "cell_type": "code",
   "execution_count": 145,
   "metadata": {},
   "outputs": [],
   "source": [
    "q6d = ['A', 'D', 'E', 'H']"
   ]
  },
  {
   "cell_type": "code",
   "execution_count": 146,
   "metadata": {
    "deletable": false,
    "editable": false
   },
   "outputs": [
    {
     "data": {
      "text/html": [
       "\n",
       "    <p><strong>q6d</strong> passed!</p>\n",
       "    "
      ],
      "text/plain": [
       "q6d passed!"
      ]
     },
     "execution_count": 146,
     "metadata": {},
     "output_type": "execute_result"
    }
   ],
   "source": [
    "grader.check(\"q6d\")"
   ]
  },
  {
   "cell_type": "markdown",
   "metadata": {
    "deletable": false,
    "editable": false
   },
   "source": [
    "<!-- BEGIN QUESTION -->\n",
    "\n",
    "#### Question 6e:\n",
    "\n",
    "Explain your answer to the previous part based on your inspection of the query plans (your explanation should include why you didn't choose certain options).\n",
    "\n",
    "<!--\n",
    "BEGIN QUESTION\n",
    "name: q6e\n",
    "manual: true\n",
    "points: 2\n",
    "-->"
   ]
  },
  {
   "cell_type": "markdown",
   "metadata": {},
   "source": [
    "* Without clustering, the cost and timing of the query were result_6a_cost = 2879.05 and result_6a_timing = 80.695. After clustering based on ab_idx, the cost and timing were result_6c_cost = 1781.75 and result_6c_timing = 5.008. As such, the cost and time have dropped and so options A and D are both correct, making B and C incorrect.\n",
    "* After clustering based on batting_pkey, the cost and time were result_6b_cost = 2878.05 and result_6b_timing = 31.735. We see that both the cost and time drop by a very marginal amount, so options E and H are correct, making F and G incorrect. Since we've selected options, I is also incorrect."
   ]
  },
  {
   "cell_type": "markdown",
   "metadata": {},
   "source": [
    "<!-- END QUESTION -->\n",
    "\n",
    "\n",
    "\n",
    "### Question 7\n",
    "Until now, we have seen the positive potential impact that indexes can have on query performance, but remember in real world technologies/applications, we will be routinely receiving new data (and in large quantities) which would trigger regular updates to our tables. In this section, we will dive into the cost of managing the indexes that we create.\n",
    "\n",
    "#### Question 7a:\n",
    "Record the time it takes to insert 300,000 rows into the `salaries` table when no additional index is configured."
   ]
  },
  {
   "cell_type": "markdown",
   "metadata": {},
   "source": [
    "Run the following cell to setup a column to track which rows we added as part of these inserts."
   ]
  },
  {
   "cell_type": "code",
   "execution_count": 147,
   "metadata": {},
   "outputs": [
    {
     "name": "stdout",
     "output_type": "stream",
     "text": [
      " * postgresql://jovyan@127.0.0.1:5432/baseball\n",
      "   postgresql://jovyan@127.0.0.1:5432/postgres\n",
      "Done.\n"
     ]
    },
    {
     "data": {
      "text/plain": [
       "[]"
      ]
     },
     "execution_count": 147,
     "metadata": {},
     "output_type": "execute_result"
    }
   ],
   "source": [
    "%sql ALTER TABLE salaries ADD added boolean DEFAULT False;"
   ]
  },
  {
   "cell_type": "markdown",
   "metadata": {},
   "source": [
    "Next, run the provided update script and record the wall time."
   ]
  },
  {
   "cell_type": "code",
   "execution_count": 148,
   "metadata": {},
   "outputs": [
    {
     "name": "stdout",
     "output_type": "stream",
     "text": [
      " * postgresql://jovyan@127.0.0.1:5432/baseball\n",
      "   postgresql://jovyan@127.0.0.1:5432/postgres\n",
      "Done.\n",
      "CPU times: user 4.44 ms, sys: 2.17 ms, total: 6.61 ms\n",
      "Wall time: 4.26 s\n"
     ]
    },
    {
     "data": {
      "text/plain": [
       "[]"
      ]
     },
     "execution_count": 148,
     "metadata": {},
     "output_type": "execute_result"
    }
   ],
   "source": [
    "%%time\n",
    "%%sql\n",
    "DO $$\n",
    " DECLARE counter INTEGER := 1;\n",
    " BEGIN\n",
    "     FOR counter IN 100000..400000 LOOP\n",
    "     INSERT INTO salaries (yearid, teamid, lgid, playerid, salary, added)\n",
    "         VALUES (2021, 'ATL', 'NL', 'p' || counter, RANDOM() * 1000000, true);\n",
    "     END LOOP;\n",
    "END;\n",
    "$$;"
   ]
  },
  {
   "cell_type": "code",
   "execution_count": 149,
   "metadata": {},
   "outputs": [],
   "source": [
    "result_7a_timing = 4.85"
   ]
  },
  {
   "cell_type": "code",
   "execution_count": 150,
   "metadata": {
    "deletable": false,
    "editable": false
   },
   "outputs": [
    {
     "data": {
      "text/html": [
       "\n",
       "    <p><strong>q7a</strong> passed!</p>\n",
       "    "
      ],
      "text/plain": [
       "q7a passed!"
      ]
     },
     "execution_count": 150,
     "metadata": {},
     "output_type": "execute_result"
    }
   ],
   "source": [
    "grader.check(\"q7a\")"
   ]
  },
  {
   "cell_type": "markdown",
   "metadata": {},
   "source": [
    "Before adding an index to the salaries table and re-timing the updates, delete all the rows that were added to the table from the update script."
   ]
  },
  {
   "cell_type": "code",
   "execution_count": 151,
   "metadata": {},
   "outputs": [
    {
     "name": "stdout",
     "output_type": "stream",
     "text": [
      " * postgresql://jovyan@127.0.0.1:5432/baseball\n",
      "   postgresql://jovyan@127.0.0.1:5432/postgres\n",
      "300001 rows affected.\n"
     ]
    },
    {
     "data": {
      "text/plain": [
       "[]"
      ]
     },
     "execution_count": 151,
     "metadata": {},
     "output_type": "execute_result"
    }
   ],
   "source": [
    "%%sql\n",
    "DELETE FROM salaries\n",
    "WHERE added = 'true';"
   ]
  },
  {
   "cell_type": "markdown",
   "metadata": {},
   "source": [
    "#### Question 7b:\n",
    "Now, create an index on the `salary` column and record the wall time after executing the update script."
   ]
  },
  {
   "cell_type": "code",
   "execution_count": 152,
   "metadata": {},
   "outputs": [
    {
     "name": "stdout",
     "output_type": "stream",
     "text": [
      " * postgresql://jovyan@127.0.0.1:5432/baseball\n",
      "   postgresql://jovyan@127.0.0.1:5432/postgres\n",
      "Done.\n"
     ]
    },
    {
     "data": {
      "text/plain": [
       "[]"
      ]
     },
     "execution_count": 152,
     "metadata": {},
     "output_type": "execute_result"
    }
   ],
   "source": [
    "%%sql \n",
    "Create INDEX salary_idx On salaries(salary);"
   ]
  },
  {
   "cell_type": "code",
   "execution_count": 153,
   "metadata": {},
   "outputs": [
    {
     "name": "stdout",
     "output_type": "stream",
     "text": [
      " * postgresql://jovyan@127.0.0.1:5432/baseball\n",
      "   postgresql://jovyan@127.0.0.1:5432/postgres\n",
      "Done.\n",
      "CPU times: user 6.51 ms, sys: 2.63 ms, total: 9.14 ms\n",
      "Wall time: 7.58 s\n"
     ]
    },
    {
     "data": {
      "text/plain": [
       "[]"
      ]
     },
     "execution_count": 153,
     "metadata": {},
     "output_type": "execute_result"
    }
   ],
   "source": [
    "%%time\n",
    "%%sql\n",
    "DO $$\n",
    " DECLARE counter INTEGER := 1;\n",
    " BEGIN\n",
    "     FOR counter IN 100000..400000 LOOP\n",
    "     INSERT INTO salaries (yearid, teamid, lgid, playerid, salary, added)\n",
    "         VALUES (2021, 'ATL', 'NL', 'p' || counter, RANDOM() * 1000000, true);\n",
    "     END LOOP;\n",
    "END;\n",
    "$$;"
   ]
  },
  {
   "cell_type": "code",
   "execution_count": 154,
   "metadata": {},
   "outputs": [],
   "source": [
    "result_7b_timing = 10.3"
   ]
  },
  {
   "cell_type": "code",
   "execution_count": 155,
   "metadata": {
    "deletable": false,
    "editable": false
   },
   "outputs": [
    {
     "data": {
      "text/html": [
       "\n",
       "    <p><strong>q7b</strong> passed!</p>\n",
       "    "
      ],
      "text/plain": [
       "q7b passed!"
      ]
     },
     "execution_count": 155,
     "metadata": {},
     "output_type": "execute_result"
    }
   ],
   "source": [
    "grader.check(\"q7b\")"
   ]
  },
  {
   "cell_type": "markdown",
   "metadata": {},
   "source": [
    "## Question 8\n",
    "In this question, we will explore the benefits of bulk loading data and indexes. \n",
    "\n",
    "#### Question 8ai:\n",
    "Create a new table called `fabricated_salaries` with the following schema:\n",
    "\n",
    "Column Name | Data Type\n",
    "--- | --- \n",
    "yearid |  INTEGER\n",
    "teamid | CHARACTER VARYING(3)\n",
    "lgid | CHARACTER VARYING(2)\n",
    "playerid | CHARACTER VARYING(10)\n",
    "salary | DOUBLE PRECISION\n",
    "\n",
    "**Note:** There are no tests associated with this subpart."
   ]
  },
  {
   "cell_type": "code",
   "execution_count": 156,
   "metadata": {},
   "outputs": [
    {
     "name": "stdout",
     "output_type": "stream",
     "text": [
      " * postgresql://jovyan@127.0.0.1:5432/baseball\n",
      "   postgresql://jovyan@127.0.0.1:5432/postgres\n",
      "Done.\n",
      "Returning data to local variable result_8a\n"
     ]
    }
   ],
   "source": [
    "%%sql result_8a <<\n",
    "CREATE TABLE fabricated_salaries (\n",
    "yearid INTEGER,\n",
    "teamid CHARACTER VARYING(3),\n",
    "lgid CHARACTER VARYING(2),\n",
    "playerid CHARACTER VARYING(10),\n",
    "salary DOUBLE PRECISION)"
   ]
  },
  {
   "cell_type": "markdown",
   "metadata": {},
   "source": [
    "#### Question 8aii:\n",
    "Record the time it takes to copy the contents of the `fabricated_salaries.txt` into the new table. Hint: Use the psql shell comamnd `\\copy` to perform the copying (see the documentation [here](https://www.postgresql.org/docs/9.2/app-psql.html#APP-PSQL-META-COMMANDS-COPY)). Your answer should be formatted as follows: `!psql -h localhost -d baseball -c \"\\copy _REPLACE_ME_\"`."
   ]
  },
  {
   "cell_type": "code",
   "execution_count": 188,
   "metadata": {},
   "outputs": [
    {
     "name": "stdout",
     "output_type": "stream",
     "text": [
      "Archive:  data/salaries_trunc.zip\r\n"
     ]
    }
   ],
   "source": [
    "# Unzip the file before copying\n",
    "!unzip -u data/salaries_trunc.zip -d data/"
   ]
  },
  {
   "cell_type": "code",
   "execution_count": 189,
   "metadata": {},
   "outputs": [
    {
     "name": "stdout",
     "output_type": "stream",
     "text": [
      "CPU times: user 6 µs, sys: 3 µs, total: 9 µs\n",
      "Wall time: 16.9 µs\n",
      "COPY 10000\n"
     ]
    }
   ],
   "source": [
    "%time\n",
    "!psql -h localhost -d baseball -c \"\\copy fabricated_salaries from data/salaries_trunc.txt WITH DELIMITER ','\""
   ]
  },
  {
   "cell_type": "code",
   "execution_count": 190,
   "metadata": {},
   "outputs": [],
   "source": [
    "time_to_copy_data = 13.8"
   ]
  },
  {
   "cell_type": "code",
   "execution_count": 160,
   "metadata": {
    "deletable": false,
    "editable": false
   },
   "outputs": [
    {
     "data": {
      "text/html": [
       "\n",
       "    <p><strong>q8aii</strong> passed!</p>\n",
       "    "
      ],
      "text/plain": [
       "q8aii passed!"
      ]
     },
     "execution_count": 160,
     "metadata": {},
     "output_type": "execute_result"
    }
   ],
   "source": [
    "grader.check(\"q8aii\")"
   ]
  },
  {
   "cell_type": "markdown",
   "metadata": {},
   "source": [
    "#### Question 8aiii:\n",
    "Record the time to create an index on the `salary` column with name `fabricated_salary_idx` for the new table you created."
   ]
  },
  {
   "cell_type": "code",
   "execution_count": 161,
   "metadata": {},
   "outputs": [
    {
     "name": "stdout",
     "output_type": "stream",
     "text": [
      " * postgresql://jovyan@127.0.0.1:5432/baseball\n",
      "   postgresql://jovyan@127.0.0.1:5432/postgres\n",
      "Done.\n",
      "CPU times: user 3.78 ms, sys: 2.37 ms, total: 6.14 ms\n",
      "Wall time: 19 ms\n"
     ]
    },
    {
     "data": {
      "text/plain": [
       "[]"
      ]
     },
     "execution_count": 161,
     "metadata": {},
     "output_type": "execute_result"
    }
   ],
   "source": [
    "%%time\n",
    "%%sql \n",
    "Create INDEX fabricated_salary_idx On fabricated_salaries(salary);"
   ]
  },
  {
   "cell_type": "code",
   "execution_count": 162,
   "metadata": {},
   "outputs": [],
   "source": [
    "time_to_create_index = 28.1"
   ]
  },
  {
   "cell_type": "code",
   "execution_count": 163,
   "metadata": {
    "deletable": false,
    "editable": false
   },
   "outputs": [
    {
     "data": {
      "text/html": [
       "\n",
       "    <p><strong>q8aiii</strong> passed!</p>\n",
       "    "
      ],
      "text/plain": [
       "q8aiii passed!"
      ]
     },
     "execution_count": 163,
     "metadata": {},
     "output_type": "execute_result"
    }
   ],
   "source": [
    "grader.check(\"q8aiii\")"
   ]
  },
  {
   "cell_type": "markdown",
   "metadata": {},
   "source": [
    "### Question 8b:\n",
    "Now, create a second table called `fabricated_salaries2` with the same schema definition from `Question 8ai`. Then, record the time to run 10,000 `INSERT` statements."
   ]
  },
  {
   "cell_type": "code",
   "execution_count": 164,
   "metadata": {},
   "outputs": [
    {
     "name": "stdout",
     "output_type": "stream",
     "text": [
      " * postgresql://jovyan@127.0.0.1:5432/baseball\n",
      "   postgresql://jovyan@127.0.0.1:5432/postgres\n",
      "Done.\n",
      "Returning data to local variable result_8b\n"
     ]
    }
   ],
   "source": [
    "%%sql result_8b <<\n",
    "CREATE TABLE fabricated_salaries2 (\n",
    "yearid INTEGER,\n",
    "teamid CHARACTER VARYING(3),\n",
    "lgid CHARACTER VARYING(2),\n",
    "playerid CHARACTER VARYING(10),\n",
    "salary DOUBLE PRECISION)"
   ]
  },
  {
   "cell_type": "markdown",
   "metadata": {},
   "source": [
    "Run the following cell and record the time it takes to perform 10,000 random inserts into the table you just created."
   ]
  },
  {
   "cell_type": "code",
   "execution_count": 165,
   "metadata": {},
   "outputs": [
    {
     "name": "stdout",
     "output_type": "stream",
     "text": [
      " * postgresql://jovyan@127.0.0.1:5432/baseball\n",
      "   postgresql://jovyan@127.0.0.1:5432/postgres\n",
      "Done.\n",
      "CPU times: user 4.45 ms, sys: 550 µs, total: 5 ms\n",
      "Wall time: 66.8 ms\n"
     ]
    },
    {
     "data": {
      "text/plain": [
       "[]"
      ]
     },
     "execution_count": 165,
     "metadata": {},
     "output_type": "execute_result"
    }
   ],
   "source": [
    "%%time\n",
    "%%sql\n",
    "DO $$\n",
    " DECLARE counter INTEGER := 1;\n",
    " BEGIN\n",
    "     FOR counter IN 100001..110000 LOOP\n",
    "     INSERT INTO fabricated_salaries2 (yearid, teamid, lgid, playerid, salary)\n",
    "         VALUES (2021, 'ATL', 'NL', 'p' || counter, RANDOM() * 1000000);\n",
    "     END LOOP;\n",
    "END;\n",
    "$$;"
   ]
  },
  {
   "cell_type": "code",
   "execution_count": 166,
   "metadata": {},
   "outputs": [],
   "source": [
    "time_8b = 78.2"
   ]
  },
  {
   "cell_type": "code",
   "execution_count": 167,
   "metadata": {
    "deletable": false,
    "editable": false
   },
   "outputs": [
    {
     "data": {
      "text/html": [
       "\n",
       "    <p><strong>q8b</strong> passed!</p>\n",
       "    "
      ],
      "text/plain": [
       "q8b passed!"
      ]
     },
     "execution_count": 167,
     "metadata": {},
     "output_type": "execute_result"
    }
   ],
   "source": [
    "grader.check(\"q8b\")"
   ]
  },
  {
   "cell_type": "markdown",
   "metadata": {},
   "source": [
    "### Question 8c\n",
    "Now, create a third table `fabricated_salaries3` (with the same schema specified in `Question 8ai`) and create an index on the `salary` column with name `fabricated_salary3_idx`."
   ]
  },
  {
   "cell_type": "code",
   "execution_count": 168,
   "metadata": {},
   "outputs": [
    {
     "name": "stdout",
     "output_type": "stream",
     "text": [
      " * postgresql://jovyan@127.0.0.1:5432/baseball\n",
      "   postgresql://jovyan@127.0.0.1:5432/postgres\n",
      "Done.\n",
      "Returning data to local variable result_8c\n"
     ]
    }
   ],
   "source": [
    "%%sql result_8c <<\n",
    "CREATE TABLE fabricated_salaries3 (\n",
    "yearid INTEGER,\n",
    "teamid CHARACTER VARYING(3),\n",
    "lgid CHARACTER VARYING(2),\n",
    "playerid CHARACTER VARYING(10),\n",
    "salary DOUBLE PRECISION)"
   ]
  },
  {
   "cell_type": "markdown",
   "metadata": {},
   "source": [
    "Create an index on the `salary` column of the new table you created."
   ]
  },
  {
   "cell_type": "code",
   "execution_count": 169,
   "metadata": {},
   "outputs": [
    {
     "name": "stdout",
     "output_type": "stream",
     "text": [
      " * postgresql://jovyan@127.0.0.1:5432/baseball\n",
      "   postgresql://jovyan@127.0.0.1:5432/postgres\n",
      "Done.\n"
     ]
    },
    {
     "data": {
      "text/plain": [
       "[]"
      ]
     },
     "execution_count": 169,
     "metadata": {},
     "output_type": "execute_result"
    }
   ],
   "source": [
    "%%sql \n",
    "Create INDEX fabricated_salary3_idx On fabricated_salaries(salary);"
   ]
  },
  {
   "cell_type": "markdown",
   "metadata": {},
   "source": [
    "Run the following cell and record the time it takes to perform 10,000 random inserts into the table you just created."
   ]
  },
  {
   "cell_type": "code",
   "execution_count": 170,
   "metadata": {},
   "outputs": [
    {
     "name": "stdout",
     "output_type": "stream",
     "text": [
      " * postgresql://jovyan@127.0.0.1:5432/baseball\n",
      "   postgresql://jovyan@127.0.0.1:5432/postgres\n",
      "Done.\n",
      "CPU times: user 3.3 ms, sys: 3.22 ms, total: 6.52 ms\n",
      "Wall time: 77.2 ms\n"
     ]
    },
    {
     "data": {
      "text/plain": [
       "[]"
      ]
     },
     "execution_count": 170,
     "metadata": {},
     "output_type": "execute_result"
    }
   ],
   "source": [
    "%%time\n",
    "%%sql\n",
    "DO $$\n",
    " DECLARE counter INTEGER := 1;\n",
    " BEGIN\n",
    "     FOR counter IN 100001..110000 LOOP\n",
    "     INSERT INTO fabricated_salaries3 (yearid, teamid, lgid, playerid, salary)\n",
    "         VALUES (2021, 'ATL', 'NL', 'p' || counter, RANDOM() * 1000000);\n",
    "     END LOOP;\n",
    " END;\n",
    "$$;"
   ]
  },
  {
   "cell_type": "code",
   "execution_count": 171,
   "metadata": {},
   "outputs": [],
   "source": [
    "time_8c = 98.1"
   ]
  },
  {
   "cell_type": "code",
   "execution_count": 172,
   "metadata": {
    "deletable": false,
    "editable": false
   },
   "outputs": [
    {
     "data": {
      "text/html": [
       "\n",
       "    <p><strong>q8c</strong> passed!</p>\n",
       "    "
      ],
      "text/plain": [
       "q8c passed!"
      ]
     },
     "execution_count": 172,
     "metadata": {},
     "output_type": "execute_result"
    }
   ],
   "source": [
    "grader.check(\"q8c\")"
   ]
  },
  {
   "cell_type": "markdown",
   "metadata": {},
   "source": [
    "### Question 8d\n",
    "Now, write an update query that adds $5,000 to every salary entry in the table you created in `Question 8ai`. Record the time it takes to execute the query."
   ]
  },
  {
   "cell_type": "code",
   "execution_count": 173,
   "metadata": {},
   "outputs": [
    {
     "name": "stdout",
     "output_type": "stream",
     "text": [
      " * postgresql://jovyan@127.0.0.1:5432/baseball\n",
      "   postgresql://jovyan@127.0.0.1:5432/postgres\n",
      "10000 rows affected.\n",
      "CPU times: user 6.24 ms, sys: 457 µs, total: 6.69 ms\n",
      "Wall time: 74.4 ms\n"
     ]
    },
    {
     "data": {
      "text/plain": [
       "[]"
      ]
     },
     "execution_count": 173,
     "metadata": {},
     "output_type": "execute_result"
    }
   ],
   "source": [
    "%%time\n",
    "%%sql\n",
    "Update fabricated_salaries\n",
    "Set salary = salary + 5000;"
   ]
  },
  {
   "cell_type": "code",
   "execution_count": 174,
   "metadata": {},
   "outputs": [],
   "source": [
    "time_8d = 135"
   ]
  },
  {
   "cell_type": "code",
   "execution_count": 175,
   "metadata": {
    "deletable": false,
    "editable": false
   },
   "outputs": [
    {
     "data": {
      "text/html": [
       "\n",
       "    <p><strong>q8d</strong> passed!</p>\n",
       "    "
      ],
      "text/plain": [
       "q8d passed!"
      ]
     },
     "execution_count": 175,
     "metadata": {},
     "output_type": "execute_result"
    }
   ],
   "source": [
    "grader.check(\"q8d\")"
   ]
  },
  {
   "cell_type": "markdown",
   "metadata": {},
   "source": [
    "## Question 8e\n",
    "Let's compare the time from the previous part with the time it takes to drop the index, run the same update query from `Question 8c`, and then recreate the index."
   ]
  },
  {
   "cell_type": "code",
   "execution_count": 176,
   "metadata": {},
   "outputs": [
    {
     "name": "stdout",
     "output_type": "stream",
     "text": [
      " * postgresql://jovyan@127.0.0.1:5432/baseball\n",
      "   postgresql://jovyan@127.0.0.1:5432/postgres\n",
      "Done.\n",
      "Done.\n",
      "10000 rows affected.\n",
      "Done.\n",
      "Done.\n",
      "CPU times: user 9.19 ms, sys: 2.43 ms, total: 11.6 ms\n",
      "Wall time: 85.5 ms\n"
     ]
    },
    {
     "data": {
      "text/plain": [
       "[]"
      ]
     },
     "execution_count": 176,
     "metadata": {},
     "output_type": "execute_result"
    }
   ],
   "source": [
    "%%time\n",
    "%%sql\n",
    "BEGIN;\n",
    "Drop INDEX fabricated_salary_idx;\n",
    "\n",
    "Update fabricated_salaries\n",
    "Set salary = salary + 5000;\n",
    "\n",
    "Create INDEX fabricated_salary_idx On fabricated_salaries(salary);\n",
    "\n",
    "COMMIT"
   ]
  },
  {
   "cell_type": "code",
   "execution_count": 177,
   "metadata": {},
   "outputs": [],
   "source": [
    "time_8e = 118"
   ]
  },
  {
   "cell_type": "code",
   "execution_count": 178,
   "metadata": {
    "deletable": false,
    "editable": false
   },
   "outputs": [
    {
     "data": {
      "text/html": [
       "\n",
       "    <p><strong>q8e</strong> passed!</p>\n",
       "    "
      ],
      "text/plain": [
       "q8e passed!"
      ]
     },
     "execution_count": 178,
     "metadata": {},
     "output_type": "execute_result"
    }
   ],
   "source": [
    "grader.check(\"q8e\")"
   ]
  },
  {
   "cell_type": "markdown",
   "metadata": {},
   "source": [
    "## Congratulations! You have finished Project 2.\n",
    "\n",
    "Run the following cell to zip the results of your queries. You will also need to run the export cell at the end of the notebook. **For submission on Gradescope, you will need to submit both the proj2.zip file genreated by the export cell and the results.zip file generated by the following cell.**"
   ]
  },
  {
   "cell_type": "code",
   "execution_count": 192,
   "metadata": {
    "deletable": false,
    "editable": false
   },
   "outputs": [
    {
     "name": "stdout",
     "output_type": "stream",
     "text": [
      "updating: results/ (stored 0%)\n",
      "updating: results/result_1a.csv (deflated 53%)\n",
      "updating: results/result_1c.csv (deflated 64%)\n",
      "updating: results/result_1di_view.csv (deflated 37%)\n",
      "updating: results/result_1di_no_view.csv (deflated 37%)\n",
      "updating: results/result_1ei.csv (deflated 64%)\n",
      "updating: results/result_1eii.csv (deflated 37%)\n",
      "updating: results/result_3a_left.csv (deflated 84%)\n",
      "updating: results/result_3a_right.csv (deflated 83%)\n",
      "updating: results/result_3a_inner.csv (deflated 83%)\n",
      "updating: results/result_3a_full.csv (deflated 84%)\n",
      "updating: results/result_4a.csv (deflated 59%)\n",
      "updating: results/result_4ei.csv (deflated 62%)\n",
      "updating: results/result_4eiii.csv (deflated 64%)\n",
      "updating: results/result_6a.csv (deflated 72%)\n"
     ]
    }
   ],
   "source": [
    "!zip -r results.zip results"
   ]
  },
  {
   "cell_type": "markdown",
   "metadata": {
    "deletable": false,
    "editable": false
   },
   "source": [
    "---\n",
    "\n",
    "To double-check your work, the cell below will rerun all of the autograder tests."
   ]
  },
  {
   "cell_type": "code",
   "execution_count": 193,
   "metadata": {
    "deletable": false,
    "editable": false
   },
   "outputs": [
    {
     "data": {
      "text/html": [
       "\n",
       "    <p><strong>q1a</strong> passed!</p>\n",
       "    \n",
       "\n",
       "\n",
       "    <p><strong>q1bi</strong> passed!</p>\n",
       "    \n",
       "\n",
       "\n",
       "    <p><strong>q1bii</strong> passed!</p>\n",
       "    \n",
       "\n",
       "\n",
       "    <p><strong>q1c</strong> passed!</p>\n",
       "    \n",
       "\n",
       "\n",
       "    <p><strong>q1di</strong> passed!</p>\n",
       "    \n",
       "\n",
       "\n",
       "    <p><strong>q1dii</strong> passed!</p>\n",
       "    \n",
       "\n",
       "\n",
       "    <p><strong>q1ei</strong> passed!</p>\n",
       "    \n",
       "\n",
       "\n",
       "    <p><strong>q1eii</strong> passed!</p>\n",
       "    \n",
       "\n",
       "\n",
       "    <p><strong>q1eiii</strong> passed!</p>\n",
       "    \n",
       "\n",
       "\n",
       "    <p><strong>q1eiv</strong> passed!</p>\n",
       "    \n",
       "\n",
       "\n",
       "    <p><strong>q2a</strong> passed!</p>\n",
       "    \n",
       "\n",
       "\n",
       "    <p><strong>q2b</strong> passed!</p>\n",
       "    \n",
       "\n",
       "\n",
       "    <p><strong>q2c</strong> passed!</p>\n",
       "    \n",
       "\n",
       "\n",
       "    <p><strong>q3a</strong> passed!</p>\n",
       "    \n",
       "\n",
       "\n",
       "    <p><strong>q3bi</strong> passed!</p>\n",
       "    \n",
       "\n",
       "\n",
       "    <p><strong>q3ci</strong> passed!</p>\n",
       "    \n",
       "\n",
       "\n",
       "    <p><strong>q4ai</strong> passed!</p>\n",
       "    \n",
       "\n",
       "\n",
       "    <p><strong>q4aii</strong> passed!</p>\n",
       "    \n",
       "\n",
       "\n",
       "    <p><strong>q4b</strong> passed!</p>\n",
       "    \n",
       "\n",
       "\n",
       "    <p><strong>q4c</strong> passed!</p>\n",
       "    \n",
       "\n",
       "\n",
       "    <p><strong>q4di</strong> passed!</p>\n",
       "    \n",
       "\n",
       "\n",
       "    <p><strong>q4ei_part1</strong> passed!</p>\n",
       "    \n",
       "\n",
       "\n",
       "    <p><strong>q4ei_part2</strong> passed!</p>\n",
       "    \n",
       "\n",
       "\n",
       "    <p><strong>q4eii</strong> passed!</p>\n",
       "    \n",
       "\n",
       "\n",
       "    <p><strong>q4eiii_part1</strong> passed!</p>\n",
       "    \n",
       "\n",
       "\n",
       "    <p><strong>q4eiii_part2</strong> passed!</p>\n",
       "    \n",
       "\n",
       "\n",
       "    <p><strong>q4eiv</strong> passed!</p>\n",
       "    \n",
       "\n",
       "\n",
       "    <p><strong>q4ev</strong> passed!</p>\n",
       "    \n",
       "\n",
       "\n",
       "    <p><strong>q4evi</strong> passed!</p>\n",
       "    \n",
       "\n",
       "\n",
       "    <p><strong>q5ai</strong> passed!</p>\n",
       "    \n",
       "\n",
       "\n",
       "    <p><strong>q5aii</strong> passed!</p>\n",
       "    \n",
       "\n",
       "\n",
       "    <p><strong>q5bi</strong> passed!</p>\n",
       "    \n",
       "\n",
       "\n",
       "    <p><strong>q5bii</strong> passed!</p>\n",
       "    \n",
       "\n",
       "\n",
       "    <p><strong>q5c</strong> passed!</p>\n",
       "    \n",
       "\n",
       "\n",
       "    <p><strong>q6ai</strong> passed!</p>\n",
       "    \n",
       "\n",
       "\n",
       "    <p><strong>q6aii</strong> passed!</p>\n",
       "    \n",
       "\n",
       "\n",
       "    <p><strong>q6b</strong> passed!</p>\n",
       "    \n",
       "\n",
       "\n",
       "    <p><strong>q6c</strong> passed!</p>\n",
       "    \n",
       "\n",
       "\n",
       "    <p><strong>q6d</strong> passed!</p>\n",
       "    \n",
       "\n",
       "\n",
       "    <p><strong>q7a</strong> passed!</p>\n",
       "    \n",
       "\n",
       "\n",
       "    <p><strong>q7b</strong> passed!</p>\n",
       "    \n",
       "\n",
       "\n",
       "    <p><strong>q8aii</strong> passed!</p>\n",
       "    \n",
       "\n",
       "\n",
       "    <p><strong>q8aiii</strong> passed!</p>\n",
       "    \n",
       "\n",
       "\n",
       "    <p><strong>q8b</strong> passed!</p>\n",
       "    \n",
       "\n",
       "\n",
       "    <p><strong>q8c</strong> passed!</p>\n",
       "    \n",
       "\n",
       "\n",
       "    <p><strong>q8d</strong> passed!</p>\n",
       "    \n",
       "\n",
       "\n",
       "    <p><strong>q8e</strong> passed!</p>\n",
       "    \n",
       "\n"
      ],
      "text/plain": [
       "q1a passed!\n",
       "\n",
       "q1bi passed!\n",
       "\n",
       "q1bii passed!\n",
       "\n",
       "q1c passed!\n",
       "\n",
       "q1di passed!\n",
       "\n",
       "q1dii passed!\n",
       "\n",
       "q1ei passed!\n",
       "\n",
       "q1eii passed!\n",
       "\n",
       "q1eiii passed!\n",
       "\n",
       "q1eiv passed!\n",
       "\n",
       "q2a passed!\n",
       "\n",
       "q2b passed!\n",
       "\n",
       "q2c passed!\n",
       "\n",
       "q3a passed!\n",
       "\n",
       "q3bi passed!\n",
       "\n",
       "q3ci passed!\n",
       "\n",
       "q4ai passed!\n",
       "\n",
       "q4aii passed!\n",
       "\n",
       "q4b passed!\n",
       "\n",
       "q4c passed!\n",
       "\n",
       "q4di passed!\n",
       "\n",
       "q4ei_part1 passed!\n",
       "\n",
       "q4ei_part2 passed!\n",
       "\n",
       "q4eii passed!\n",
       "\n",
       "q4eiii_part1 passed!\n",
       "\n",
       "q4eiii_part2 passed!\n",
       "\n",
       "q4eiv passed!\n",
       "\n",
       "q4ev passed!\n",
       "\n",
       "q4evi passed!\n",
       "\n",
       "q5ai passed!\n",
       "\n",
       "q5aii passed!\n",
       "\n",
       "q5bi passed!\n",
       "\n",
       "q5bii passed!\n",
       "\n",
       "q5c passed!\n",
       "\n",
       "q6ai passed!\n",
       "\n",
       "q6aii passed!\n",
       "\n",
       "q6b passed!\n",
       "\n",
       "q6c passed!\n",
       "\n",
       "q6d passed!\n",
       "\n",
       "q7a passed!\n",
       "\n",
       "q7b passed!\n",
       "\n",
       "q8aii passed!\n",
       "\n",
       "q8aiii passed!\n",
       "\n",
       "q8b passed!\n",
       "\n",
       "q8c passed!\n",
       "\n",
       "q8d passed!\n",
       "\n",
       "q8e passed!\n"
      ]
     },
     "execution_count": 193,
     "metadata": {},
     "output_type": "execute_result"
    }
   ],
   "source": [
    "grader.check_all()"
   ]
  },
  {
   "cell_type": "markdown",
   "metadata": {
    "deletable": false,
    "editable": false
   },
   "source": [
    "## Submission\n",
    "\n",
    "Make sure you have run all cells in your notebook in order before running the cell below, so that all images/graphs appear in the output. The cell below will generate a zip file for you to submit. **Please save before exporting!**"
   ]
  },
  {
   "cell_type": "code",
   "execution_count": null,
   "metadata": {
    "deletable": false,
    "editable": false
   },
   "outputs": [],
   "source": [
    "# Save your notebook first, then run this cell to export your submission.\n",
    "grader.export()"
   ]
  },
  {
   "cell_type": "markdown",
   "metadata": {},
   "source": [
    " "
   ]
  }
 ],
 "metadata": {
  "kernelspec": {
   "display_name": "Python 3",
   "language": "python",
   "name": "python3"
  },
  "language_info": {
   "codemirror_mode": {
    "name": "ipython",
    "version": 3
   },
   "file_extension": ".py",
   "mimetype": "text/x-python",
   "name": "python",
   "nbconvert_exporter": "python",
   "pygments_lexer": "ipython3",
   "version": "3.8.6"
  }
 },
 "nbformat": 4,
 "nbformat_minor": 4
}
